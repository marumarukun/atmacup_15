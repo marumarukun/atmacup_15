{
 "cells": [
  {
   "cell_type": "code",
   "execution_count": 1,
   "metadata": {},
   "outputs": [],
   "source": [
    "import polars as pl\n",
    "from sklearn.model_selection import GroupKFold, StratifiedKFold\n",
    "from sklearn.preprocessing import LabelEncoder\n",
    "\n",
    "from src.config import cfg\n",
    "from src.data import anime_id_label_encoding, load_data, user_id_label_encoding\n",
    "from src.seed import seed_everything\n",
    "\n",
    "pl.Config.set_fmt_str_lengths(100)\n",
    "pl.Config.set_tbl_rows(50)\n",
    "pl.Config.set_tbl_cols(100)\n",
    "\n",
    "seed_everything(cfg.seed)\n"
   ]
  },
  {
   "cell_type": "markdown",
   "metadata": {},
   "source": [
    "## 使用する最低限のデータを準備\n"
   ]
  },
  {
   "cell_type": "code",
   "execution_count": 2,
   "metadata": {},
   "outputs": [],
   "source": [
    "train_df, test_df, anime_df = load_data()\n",
    "\n",
    "# testをseen, unseenで分ける\n",
    "train_user_list = train_df[\"user_id\"].unique().to_list()\n",
    "seen_test_df = test_df.filter(pl.col(\"user_id\").is_in(train_user_list))\n",
    "unseen_test_df = test_df.filter(~pl.col(\"user_id\").is_in(train_user_list))\n"
   ]
  },
  {
   "cell_type": "markdown",
   "metadata": {},
   "source": [
    "## CV"
   ]
  },
  {
   "cell_type": "code",
   "execution_count": 3,
   "metadata": {},
   "outputs": [
    {
     "name": "stderr",
     "output_type": "stream",
     "text": [
      "/Users/marumarukun/Documents/compe/atmacup_15/.venv/lib/python3.11/site-packages/sklearn/model_selection/_split.py:776: UserWarning: The least populated class in y has only 1 members, which is less than n_splits=5.\n",
      "  warnings.warn(\n"
     ]
    }
   ],
   "source": [
    "# seen用のCV\n",
    "skf = StratifiedKFold(n_splits=cfg.n_splits, shuffle=True, random_state=cfg.seed)\n",
    "\n",
    "train_df = train_df.with_columns(fold=pl.lit(-1))\n",
    "\n",
    "for fold, (_, val_index) in enumerate(skf.split(train_df, train_df[\"user_id\"])):\n",
    "    train_df[val_index, \"fold\"] = fold\n",
    "\n",
    "scores_lgb = []\n",
    "models_lgb = []\n",
    "feature_importances = []\n",
    "\n",
    "for fold in range(cfg.n_splits):\n",
    "    print(f\"Training for fold: {fold}...\")\n",
    "\n",
    "    train_data = train_df.filter(pl.col(\"fold\") != fold)\n",
    "    val_data = train_df.filter(pl.col(\"fold\") == fold)\n",
    "\n",
    "    features = test_df.columns\n",
    "    target = \"score\"\n"
   ]
  },
  {
   "cell_type": "markdown",
   "metadata": {},
   "source": [
    "## モデル"
   ]
  },
  {
   "cell_type": "code",
   "execution_count": null,
   "metadata": {},
   "outputs": [],
   "source": []
  }
 ],
 "metadata": {
  "kernelspec": {
   "display_name": ".venv",
   "language": "python",
   "name": "python3"
  },
  "language_info": {
   "codemirror_mode": {
    "name": "ipython",
    "version": 3
   },
   "file_extension": ".py",
   "mimetype": "text/x-python",
   "name": "python",
   "nbconvert_exporter": "python",
   "pygments_lexer": "ipython3",
   "version": "3.11.8"
  }
 },
 "nbformat": 4,
 "nbformat_minor": 2
}
