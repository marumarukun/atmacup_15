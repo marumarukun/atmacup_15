{
 "cells": [
  {
   "cell_type": "code",
   "execution_count": 1,
   "metadata": {},
   "outputs": [],
   "source": [
    "import pickle\n",
    "\n",
    "import lightgbm as lgb\n",
    "import numpy as np\n",
    "import pandas as pd\n",
    "import polars as pl\n",
    "from sklearn.metrics import mean_squared_error\n",
    "from sklearn.model_selection import GroupKFold, StratifiedKFold\n",
    "from sklearn.preprocessing import LabelEncoder\n",
    "\n",
    "from src.config import cfg\n",
    "from src.data import anime_id_label_encoding, load_data, user_id_label_encoding\n",
    "from src.dir import create_dir\n",
    "from src.seed import seed_everything\n",
    "\n",
    "pl.Config.set_fmt_str_lengths(100)\n",
    "pl.Config.set_tbl_rows(50)\n",
    "pl.Config.set_tbl_cols(100)\n",
    "\n",
    "seed_everything(cfg.seed)\n"
   ]
  },
  {
   "cell_type": "markdown",
   "metadata": {},
   "source": [
    "## 使用する最低限のデータを準備\n"
   ]
  },
  {
   "cell_type": "code",
   "execution_count": 2,
   "metadata": {},
   "outputs": [],
   "source": [
    "train_df, test_df, anime_df = load_data()\n",
    "\n",
    "# testをseen, unseenで分ける\n",
    "train_user_list = train_df[\"user_id\"].unique().to_list()\n",
    "seen_test_df = test_df.filter(pl.col(\"user_id\").is_in(train_user_list))\n",
    "unseen_test_df = test_df.filter(~pl.col(\"user_id\").is_in(train_user_list))\n"
   ]
  },
  {
   "cell_type": "markdown",
   "metadata": {},
   "source": [
    "## CV"
   ]
  },
  {
   "cell_type": "code",
   "execution_count": 8,
   "metadata": {},
   "outputs": [
    {
     "name": "stdout",
     "output_type": "stream",
     "text": [
      "Training for fold: 0...\n",
      "Training for fold: 1...\n",
      "Training for fold: 2...\n",
      "Training for fold: 3...\n",
      "Training for fold: 4...\n"
     ]
    },
    {
     "name": "stderr",
     "output_type": "stream",
     "text": [
      "/Users/marumarukun/Documents/compe/atmacup_15/.venv/lib/python3.11/site-packages/sklearn/model_selection/_split.py:776: UserWarning: The least populated class in y has only 1 members, which is less than n_splits=5.\n",
      "  warnings.warn(\n"
     ]
    }
   ],
   "source": [
    "# seen用のCV\n",
    "skf = StratifiedKFold(n_splits=cfg.n_splits, shuffle=True, random_state=cfg.seed)\n",
    "\n",
    "train_df = train_df.with_columns(fold=pl.lit(-1))\n",
    "\n",
    "for fold, (_, val_index) in enumerate(skf.split(train_df, train_df[\"user_id\"])):\n",
    "    train_df[val_index, \"fold\"] = fold\n",
    "\n",
    "scores_lgb = []\n",
    "models_lgb = []\n",
    "feature_importances = []\n",
    "\n",
    "for fold in range(cfg.n_splits):\n",
    "    print(f\"Training for fold: {fold}...\")\n",
    "\n",
    "    train_data = train_df.filter(pl.col(\"fold\") != fold)\n",
    "    val_data = train_df.filter(pl.col(\"fold\") == fold)\n",
    "\n",
    "    features = test_df.columns\n",
    "    target = \"score\"\n",
    "\n",
    "    lgb_train = lgb.Dataset(train_data[features].to_pandas(), train_data[target].to_pandas())\n",
    "    lgb_val = lgb.Dataset(val_data[features].to_pandas(), val_data[target].to_pandas())\n",
    "\n",
    "    callbacks = [\n",
    "        lgb.early_stopping(stopping_rounds=cfg.lgb.early_stopping_rounds),\n",
    "        lgb.log_evaluation(cfg.lgb.log_evaluation_period),\n",
    "    ]\n",
    "    model_lgb = lgb.train(\n",
    "        cfg.lgb.params,\n",
    "        lgb_train,\n",
    "        valid_sets=[lgb_val],\n",
    "        callbacks=callbacks,\n",
    "        num_boost_round=cfg.lgb.num_boost_round,\n",
    "    )\n",
    "\n",
    "    # # Save the model\n",
    "    # with open(f\"model_lgb_{fold}.pkl\", \"wb\") as f:\n",
    "    #     pickle.dump(model_lgb, f)\n",
    "\n",
    "#     # Predict the validation data\n",
    "#     val_pred_lgb = model_lgb.predict(val_data[features].to_pandas(), num_iteration=model_lgb.best_iteration)\n",
    "\n",
    "#     # Evaluate the model\n",
    "#     score_lgb = np.sqrt(mean_squared_error(val_data[target].to_pandas(), val_pred_lgb))\n",
    "#     scores_lgb.append(score_lgb)\n",
    "\n",
    "#     print(f\"RMSE for fold {fold}: {score_lgb}\")\n",
    "\n",
    "#     # Save feature importances\n",
    "#     feature_importances.append(model_lgb.feature_importance(importance_type=\"gain\"))\n",
    "\n",
    "# # Calculate the average score\n",
    "# average_score_lgb = np.mean(scores_lgb)\n",
    "\n",
    "# print(f\"Average RMSE: {average_score_lgb}\")\n",
    "\n",
    "# # Calculate the average feature importance\n",
    "# average_feature_importance = np.mean(feature_importances, axis=0)\n",
    "# feature_importance_df = pd.DataFrame({\"feature\": features, \"importance\": average_feature_importance}).sort_values(\n",
    "#     by=\"importance\", ascending=False\n",
    "# )\n",
    "\n",
    "# print(\"Feature Importances:\")\n",
    "# print(feature_importance_df)\n",
    "\n",
    "# # Predict the test data and create the submission file\n",
    "# submission_df = pl.read_csv(\"../data/input/sample_submission.csv\", try_parse_dates=True)\n",
    "# submission_df = submission_df.with_columns(pl.lit(0).alias(\"score\"))\n",
    "\n",
    "# for fold in range(5):\n",
    "#     with open(f\"model_lgb_{fold}.pkl\", \"rb\") as f:\n",
    "#         model_lgb = pickle.load(f)\n",
    "#     test_pred_lgb = model_lgb.predict(test_df[features].to_pandas(), num_iteration=model_lgb.best_iteration)\n",
    "#     submission_df = submission_df.with_columns((pl.col(\"score\") + pl.Series(test_pred_lgb) / 5).alias(\"score\"))\n",
    "\n",
    "# submission_df.write_csv(\"../data/output/submission_baseline_a2v_rating.csv\")\n"
   ]
  },
  {
   "cell_type": "markdown",
   "metadata": {},
   "source": [
    "## モデル"
   ]
  },
  {
   "cell_type": "code",
   "execution_count": null,
   "metadata": {},
   "outputs": [],
   "source": []
  }
 ],
 "metadata": {
  "kernelspec": {
   "display_name": ".venv",
   "language": "python",
   "name": "python3"
  },
  "language_info": {
   "codemirror_mode": {
    "name": "ipython",
    "version": 3
   },
   "file_extension": ".py",
   "mimetype": "text/x-python",
   "name": "python",
   "nbconvert_exporter": "python",
   "pygments_lexer": "ipython3",
   "version": "3.11.8"
  }
 },
 "nbformat": 4,
 "nbformat_minor": 2
}
