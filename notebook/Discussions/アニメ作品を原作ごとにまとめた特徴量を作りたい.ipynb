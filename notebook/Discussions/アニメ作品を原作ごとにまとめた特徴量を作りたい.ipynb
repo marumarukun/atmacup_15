{
 "cells": [
  {
   "cell_type": "code",
   "execution_count": 1,
   "metadata": {},
   "outputs": [],
   "source": [
    "import os\n",
    "from itertools import combinations\n",
    "\n",
    "import Levenshtein\n",
    "import numpy as np\n",
    "import polars as pl\n",
    "from IPython.display import display\n",
    "from scipy.cluster.hierarchy import DisjointSet\n",
    "from tqdm import tqdm\n",
    "\n",
    "from src.config import Config\n",
    "\n",
    "pl.Config.set_tbl_rows(50)\n",
    "cfg = Config.get_cnf()\n"
   ]
  },
  {
   "cell_type": "code",
   "execution_count": 20,
   "metadata": {},
   "outputs": [
    {
     "data": {
      "text/html": [
       "<div><style>\n",
       ".dataframe > thead > tr,\n",
       ".dataframe > tbody > tr {\n",
       "  text-align: right;\n",
       "  white-space: pre-wrap;\n",
       "}\n",
       "</style>\n",
       "<small>shape: (1, 18)</small><table border=\"1\" class=\"dataframe\"><thead><tr><th>anime_id</th><th>genres</th><th>japanese_name</th><th>type</th><th>episodes</th><th>aired</th><th>producers</th><th>licensors</th><th>studios</th><th>source</th><th>duration</th><th>rating</th><th>members</th><th>watching</th><th>completed</th><th>on_hold</th><th>dropped</th><th>plan_to_watch</th></tr><tr><td>str</td><td>str</td><td>str</td><td>str</td><td>str</td><td>str</td><td>str</td><td>str</td><td>str</td><td>str</td><td>str</td><td>str</td><td>i64</td><td>i64</td><td>i64</td><td>i64</td><td>i64</td><td>i64</td></tr></thead><tbody><tr><td>&quot;000ba7f7e34e107e7544&quot;</td><td>&quot;Comedy, Sci-Fi, Seinen, Slice …</td><td>&quot;宇宙兄弟&quot;</td><td>&quot;TV&quot;</td><td>&quot;99&quot;</td><td>&quot;Apr 1, 2012 to Mar 22, 2014&quot;</td><td>&quot;Aniplex, Dentsu, YTV, Trinity …</td><td>&quot;Sentai Filmworks&quot;</td><td>&quot;A-1 Pictures&quot;</td><td>&quot;Manga&quot;</td><td>&quot;24 min. per ep.&quot;</td><td>&quot;PG-13 - Teens 13 or older&quot;</td><td>150428</td><td>16552</td><td>37234</td><td>13009</td><td>6948</td><td>76685</td></tr></tbody></table></div>"
      ],
      "text/plain": [
       "shape: (1, 18)\n",
       "┌───────────────┬─────────┬──────────────┬──────┬───┬───────────┬─────────┬─────────┬──────────────┐\n",
       "│ anime_id      ┆ genres  ┆ japanese_nam ┆ type ┆ … ┆ completed ┆ on_hold ┆ dropped ┆ plan_to_watc │\n",
       "│ ---           ┆ ---     ┆ e            ┆ ---  ┆   ┆ ---       ┆ ---     ┆ ---     ┆ h            │\n",
       "│ str           ┆ str     ┆ ---          ┆ str  ┆   ┆ i64       ┆ i64     ┆ i64     ┆ ---          │\n",
       "│               ┆         ┆ str          ┆      ┆   ┆           ┆         ┆         ┆ i64          │\n",
       "╞═══════════════╪═════════╪══════════════╪══════╪═══╪═══════════╪═════════╪═════════╪══════════════╡\n",
       "│ 000ba7f7e34e1 ┆ Comedy, ┆ 宇宙兄弟     ┆ TV   ┆ … ┆ 37234     ┆ 13009   ┆ 6948    ┆ 76685        │\n",
       "│ 07e7544       ┆ Sci-Fi, ┆              ┆      ┆   ┆           ┆         ┆         ┆              │\n",
       "│               ┆ Seinen, ┆              ┆      ┆   ┆           ┆         ┆         ┆              │\n",
       "│               ┆ Slice … ┆              ┆      ┆   ┆           ┆         ┆         ┆              │\n",
       "└───────────────┴─────────┴──────────────┴──────┴───┴───────────┴─────────┴─────────┴──────────────┘"
      ]
     },
     "execution_count": 20,
     "metadata": {},
     "output_type": "execute_result"
    }
   ],
   "source": [
    "anime_df = pl.read_csv(os.path.join(\"../\", cfg.data.anime_path), try_parse_dates=True)\n",
    "# Unknownという文字列をNoneに変換\n",
    "anime_df = anime_df.with_columns(\n",
    "    pl.when(pl.col(\"japanese_name\") == \"Unknown\").then(None).otherwise(pl.col(\"japanese_name\")).alias(\"japanese_name\")\n",
    ")\n",
    "anime_df.head(1)\n"
   ]
  },
  {
   "cell_type": "code",
   "execution_count": 21,
   "metadata": {},
   "outputs": [
    {
     "name": "stderr",
     "output_type": "stream",
     "text": [
      "0it [00:00, ?it/s]"
     ]
    },
    {
     "name": "stderr",
     "output_type": "stream",
     "text": [
      "1999000it [00:01, 1912447.29it/s]"
     ]
    },
    {
     "name": "stdout",
     "output_type": "stream",
     "text": [
      "raw - japanese_name nunique: 1931\n",
      "processed - japanese_name nunique: 1436\n"
     ]
    },
    {
     "name": "stderr",
     "output_type": "stream",
     "text": [
      "\n"
     ]
    },
    {
     "data": {
      "text/html": [
       "<div><style>\n",
       ".dataframe > thead > tr,\n",
       ".dataframe > tbody > tr {\n",
       "  text-align: right;\n",
       "  white-space: pre-wrap;\n",
       "}\n",
       "</style>\n",
       "<small>shape: (3, 19)</small><table border=\"1\" class=\"dataframe\"><thead><tr><th>anime_id</th><th>genres</th><th>japanese_name</th><th>type</th><th>episodes</th><th>aired</th><th>producers</th><th>licensors</th><th>studios</th><th>source</th><th>duration</th><th>rating</th><th>members</th><th>watching</th><th>completed</th><th>on_hold</th><th>dropped</th><th>plan_to_watch</th><th>original_work_name</th></tr><tr><td>str</td><td>str</td><td>str</td><td>str</td><td>str</td><td>str</td><td>str</td><td>str</td><td>str</td><td>str</td><td>str</td><td>str</td><td>i64</td><td>i64</td><td>i64</td><td>i64</td><td>i64</td><td>i64</td><td>str</td></tr></thead><tbody><tr><td>&quot;000ba7f7e34e107e7544&quot;</td><td>&quot;Comedy, Sci-Fi, Seinen, Slice …</td><td>&quot;宇宙兄弟&quot;</td><td>&quot;TV&quot;</td><td>&quot;99&quot;</td><td>&quot;Apr 1, 2012 to Mar 22, 2014&quot;</td><td>&quot;Aniplex, Dentsu, YTV, Trinity …</td><td>&quot;Sentai Filmworks&quot;</td><td>&quot;A-1 Pictures&quot;</td><td>&quot;Manga&quot;</td><td>&quot;24 min. per ep.&quot;</td><td>&quot;PG-13 - Teens 13 or older&quot;</td><td>150428</td><td>16552</td><td>37234</td><td>13009</td><td>6948</td><td>76685</td><td>&quot;宇宙兄弟&quot;</td></tr><tr><td>&quot;00427279d72064e7fb69&quot;</td><td>&quot;Adventure, Slice of Life, Myst…</td><td>&quot;蟲師&quot;</td><td>&quot;TV&quot;</td><td>&quot;26&quot;</td><td>&quot;Oct 23, 2005 to Jun 19, 2006&quot;</td><td>&quot;Avex Entertainment, Marvelous,…</td><td>&quot;Funimation&quot;</td><td>&quot;Artland&quot;</td><td>&quot;Manga&quot;</td><td>&quot;25 min. per ep.&quot;</td><td>&quot;PG-13 - Teens 13 or older&quot;</td><td>620736</td><td>55482</td><td>235371</td><td>42786</td><td>20017</td><td>267080</td><td>&quot;蟲師&quot;</td></tr><tr><td>&quot;00444b67aaabdf740a68&quot;</td><td>&quot;Adventure, Slice of Life, Myst…</td><td>&quot;蟲師 続章&quot;</td><td>&quot;TV&quot;</td><td>&quot;10&quot;</td><td>&quot;Apr 5, 2014 to Jun 21, 2014&quot;</td><td>&quot;Aniplex, Kodansha, Delfi Sound&quot;</td><td>&quot;Aniplex of America&quot;</td><td>&quot;Artland&quot;</td><td>&quot;Manga&quot;</td><td>&quot;24 min. per ep.&quot;</td><td>&quot;PG-13 - Teens 13 or older&quot;</td><td>226522</td><td>12585</td><td>113559</td><td>6095</td><td>2606</td><td>91677</td><td>&quot;蟲師&quot;</td></tr></tbody></table></div>"
      ],
      "text/plain": [
       "shape: (3, 19)\n",
       "┌─────────────┬─────────────┬─────────────┬──────┬───┬─────────┬─────────┬────────────┬────────────┐\n",
       "│ anime_id    ┆ genres      ┆ japanese_na ┆ type ┆ … ┆ on_hold ┆ dropped ┆ plan_to_wa ┆ original_w │\n",
       "│ ---         ┆ ---         ┆ me          ┆ ---  ┆   ┆ ---     ┆ ---     ┆ tch        ┆ ork_name   │\n",
       "│ str         ┆ str         ┆ ---         ┆ str  ┆   ┆ i64     ┆ i64     ┆ ---        ┆ ---        │\n",
       "│             ┆             ┆ str         ┆      ┆   ┆         ┆         ┆ i64        ┆ str        │\n",
       "╞═════════════╪═════════════╪═════════════╪══════╪═══╪═════════╪═════════╪════════════╪════════════╡\n",
       "│ 000ba7f7e34 ┆ Comedy,     ┆ 宇宙兄弟    ┆ TV   ┆ … ┆ 13009   ┆ 6948    ┆ 76685      ┆ 宇宙兄弟   │\n",
       "│ e107e7544   ┆ Sci-Fi,     ┆             ┆      ┆   ┆         ┆         ┆            ┆            │\n",
       "│             ┆ Seinen,     ┆             ┆      ┆   ┆         ┆         ┆            ┆            │\n",
       "│             ┆ Slice …     ┆             ┆      ┆   ┆         ┆         ┆            ┆            │\n",
       "│ 00427279d72 ┆ Adventure,  ┆ 蟲師        ┆ TV   ┆ … ┆ 42786   ┆ 20017   ┆ 267080     ┆ 蟲師       │\n",
       "│ 064e7fb69   ┆ Slice of    ┆             ┆      ┆   ┆         ┆         ┆            ┆            │\n",
       "│             ┆ Life, Myst… ┆             ┆      ┆   ┆         ┆         ┆            ┆            │\n",
       "│ 00444b67aaa ┆ Adventure,  ┆ 蟲師 続章   ┆ TV   ┆ … ┆ 6095    ┆ 2606    ┆ 91677      ┆ 蟲師       │\n",
       "│ bdf740a68   ┆ Slice of    ┆             ┆      ┆   ┆         ┆         ┆            ┆            │\n",
       "│             ┆ Life, Myst… ┆             ┆      ┆   ┆         ┆         ┆            ┆            │\n",
       "└─────────────┴─────────────┴─────────────┴──────┴───┴─────────┴─────────┴────────────┴────────────┘"
      ]
     },
     "metadata": {},
     "output_type": "display_data"
    }
   ],
   "source": [
    "def get_original_work_name(df, threshold=0.3):\n",
    "    _feature = df[\"japanese_name\"].to_list()\n",
    "    # my change: ソースが一致していないものは距離を1にする（原作が別とする）\n",
    "    _source = df[\"source\"].to_list()\n",
    "    _n = df.height\n",
    "\n",
    "    _disjoint_set = DisjointSet(list(range(_n)))\n",
    "    for i, j in tqdm(combinations(range(_n), 2)):\n",
    "        if _feature[i] is np.nan or _feature[j] is np.nan:\n",
    "            lv_dist, jw_dist = 1, 1\n",
    "        elif _source[i] != _source[j]:\n",
    "            lv_dist, jw_dist = 1, 1\n",
    "        else:\n",
    "            # my change: 距離ではなく、類似度を計算する = 類似度が高いほど距離は小さくなる\n",
    "            lv_dist = 1 - Levenshtein.ratio(_feature[i], _feature[j])\n",
    "            jw_dist = 1 - Levenshtein.jaro_winkler(_feature[i], _feature[j])\n",
    "        _d = (lv_dist + jw_dist) / 2\n",
    "\n",
    "        if _d < threshold:\n",
    "            _disjoint_set.merge(i, j)\n",
    "\n",
    "    _labels = [None] * _n\n",
    "    for subset in _disjoint_set.subsets():\n",
    "        # my change: 類似するタイトル群の中で最も短いタイトルを採用する\n",
    "        label = min([_feature[i] for i in subset if _feature[i] is not None], key=len, default=None)\n",
    "        for element in subset:\n",
    "            _labels[element] = label\n",
    "    df = df.with_columns(pl.Series(\"original_work_name\", _labels))\n",
    "\n",
    "    return df\n",
    "\n",
    "\n",
    "processed_anime_df = get_original_work_name(anime_df)\n",
    "print(f\"raw - japanese_name nunique: {anime_df['japanese_name'].n_unique()}\")\n",
    "print(f\"processed - japanese_name nunique: {processed_anime_df['original_work_name'].n_unique()}\")\n",
    "display(processed_anime_df.head(3))\n"
   ]
  },
  {
   "cell_type": "code",
   "execution_count": 22,
   "metadata": {},
   "outputs": [
    {
     "data": {
      "text/html": [
       "<div><style>\n",
       ".dataframe > thead > tr,\n",
       ".dataframe > tbody > tr {\n",
       "  text-align: right;\n",
       "  white-space: pre-wrap;\n",
       "}\n",
       "</style>\n",
       "<small>shape: (293, 2)</small><table border=\"1\" class=\"dataframe\"><thead><tr><th>original_work_name</th><th>len</th></tr><tr><td>str</td><td>u32</td></tr></thead><tbody><tr><td>&quot;ポケットモンスター&quot;</td><td>19</td></tr><tr><td>&quot;ドラゴンボール&quot;</td><td>17</td></tr><tr><td>&quot;機動戦士ガンダム&quot;</td><td>9</td></tr><tr><td>&quot;ハイスクールD×D&quot;</td><td>9</td></tr><tr><td>&quot;僕のヒーローアカデミア&quot;</td><td>9</td></tr><tr><td>&quot;ソードアート・オンライン&quot;</td><td>8</td></tr><tr><td>&quot;食戟のソーマ&quot;</td><td>8</td></tr><tr><td>&quot;To LOVEる -とらぶる-&quot;</td><td>8</td></tr><tr><td>&quot;劇場版 空の境界 the Garden of sinners…</td><td>8</td></tr><tr><td>&quot;進撃の巨人&quot;</td><td>7</td></tr><tr><td>&quot;終物語&quot;</td><td>7</td></tr><tr><td>&quot;ハイキュー!!&quot;</td><td>7</td></tr><tr><td>&quot;ジョジョの奇妙な冒険&quot;</td><td>6</td></tr><tr><td>&quot;ダンジョンに出会いを求めるのは間違っているだろうか&quot;</td><td>6</td></tr><tr><td>&quot;夏目友人帳&quot;</td><td>6</td></tr><tr><td>&quot;七つの大罪&quot;</td><td>6</td></tr><tr><td>&quot;銀魂&quot;</td><td>6</td></tr><tr><td>&quot;デジモンアドベンチャー０２&quot;</td><td>6</td></tr><tr><td>&quot;美少女戦士セーラームーン&quot;</td><td>6</td></tr><tr><td>&quot;Re：ゼロから始める異世界生活&quot;</td><td>5</td></tr><tr><td>&quot;デュラララ!!&quot;</td><td>5</td></tr><tr><td>&quot;デート・ア・ライブ&quot;</td><td>5</td></tr><tr><td>&quot;蟲師&quot;</td><td>5</td></tr><tr><td>&quot;冴えない彼女の育てかた Fine&quot;</td><td>5</td></tr><tr><td>&quot;Fate/kaleid liner プリズマ☆イリヤ&quot;</td><td>5</td></tr><tr><td>&hellip;</td><td>&hellip;</td></tr><tr><td>&quot;スクールランブル&quot;</td><td>2</td></tr><tr><td>&quot;キスシス&quot;</td><td>2</td></tr><tr><td>&quot;ナンバカ&quot;</td><td>2</td></tr><tr><td>&quot;フリージング&quot;</td><td>2</td></tr><tr><td>&quot;モブサイコ100&quot;</td><td>2</td></tr><tr><td>&quot;ReLIFE&quot;</td><td>2</td></tr><tr><td>&quot;黒執事&quot;</td><td>2</td></tr><tr><td>&quot;マギ シンドバッドの冒険&quot;</td><td>2</td></tr><tr><td>&quot;イヴの時間&quot;</td><td>2</td></tr><tr><td>&quot;ef - a tale of memories.&quot;</td><td>2</td></tr><tr><td>&quot;薄桜鬼&quot;</td><td>2</td></tr><tr><td>&quot;Charlotte（シャーロット）&quot;</td><td>2</td></tr><tr><td>&quot;フェアリーテイル OVA&quot;</td><td>2</td></tr><tr><td>&quot;アルドノア・ゼロ&quot;</td><td>2</td></tr><tr><td>&quot;みなみけ&quot;</td><td>2</td></tr><tr><td>&quot;劇場版 境界の彼方 I&#x27;LL BE HERE 過去篇&quot;</td><td>2</td></tr><tr><td>&quot;ブラック★ロックシューター&quot;</td><td>2</td></tr><tr><td>&quot;ぬらりひょんの孫&quot;</td><td>2</td></tr><tr><td>&quot;劇場版 FAIRY TAIL 鳳凰の巫女&quot;</td><td>2</td></tr><tr><td>&quot;ありふれた職業で世界最強&quot;</td><td>2</td></tr><tr><td>&quot;犬夜叉&quot;</td><td>2</td></tr><tr><td>&quot;ベイビーステップ&quot;</td><td>2</td></tr><tr><td>&quot;DARKER THAN BLACK 流星の双子&quot;</td><td>2</td></tr><tr><td>&quot;境界線上のホライゾン&quot;</td><td>2</td></tr><tr><td>&quot;.hack//SIGN&quot;</td><td>2</td></tr></tbody></table></div>"
      ],
      "text/plain": [
       "shape: (293, 2)\n",
       "┌─────────────────────────────────┬─────┐\n",
       "│ original_work_name              ┆ len │\n",
       "│ ---                             ┆ --- │\n",
       "│ str                             ┆ u32 │\n",
       "╞═════════════════════════════════╪═════╡\n",
       "│ ポケットモンスター              ┆ 19  │\n",
       "│ ドラゴンボール                  ┆ 17  │\n",
       "│ 機動戦士ガンダム                ┆ 9   │\n",
       "│ ハイスクールD×D                 ┆ 9   │\n",
       "│ 僕のヒーローアカデミア          ┆ 9   │\n",
       "│ ソードアート・オンライン        ┆ 8   │\n",
       "│ 食戟のソーマ                    ┆ 8   │\n",
       "│ To LOVEる -とらぶる-            ┆ 8   │\n",
       "│ 劇場版 空の境界 the Garden of   ┆ 8   │\n",
       "│ sinners…                        ┆     │\n",
       "│ 進撃の巨人                      ┆ 7   │\n",
       "│ 終物語                          ┆ 7   │\n",
       "│ ハイキュー!!                    ┆ 7   │\n",
       "│ ジョジョの奇妙な冒険            ┆ 6   │\n",
       "│ ダンジョンに出会いを求めるのは  ┆ 6   │\n",
       "│ 間違っているだろうか            ┆     │\n",
       "│ 夏目友人帳                      ┆ 6   │\n",
       "│ 七つの大罪                      ┆ 6   │\n",
       "│ 銀魂                            ┆ 6   │\n",
       "│ デジモンアドベンチャー０２      ┆ 6   │\n",
       "│ 美少女戦士セーラームーン        ┆ 6   │\n",
       "│ Re：ゼロから始める異世界生活    ┆ 5   │\n",
       "│ デュラララ!!                    ┆ 5   │\n",
       "│ デート・ア・ライブ              ┆ 5   │\n",
       "│ 蟲師                            ┆ 5   │\n",
       "│ 冴えない彼女の育てかた Fine     ┆ 5   │\n",
       "│ Fate/kaleid liner               ┆ 5   │\n",
       "│ プリズマ☆イリヤ                 ┆     │\n",
       "│ …                               ┆ …   │\n",
       "│ スクールランブル                ┆ 2   │\n",
       "│ キスシス                        ┆ 2   │\n",
       "│ ナンバカ                        ┆ 2   │\n",
       "│ フリージング                    ┆ 2   │\n",
       "│ モブサイコ100                   ┆ 2   │\n",
       "│ ReLIFE                          ┆ 2   │\n",
       "│ 黒執事                          ┆ 2   │\n",
       "│ マギ シンドバッドの冒険         ┆ 2   │\n",
       "│ イヴの時間                      ┆ 2   │\n",
       "│ ef - a tale of memories.        ┆ 2   │\n",
       "│ 薄桜鬼                          ┆ 2   │\n",
       "│ Charlotte（シャーロット）       ┆ 2   │\n",
       "│ フェアリーテイル OVA            ┆ 2   │\n",
       "│ アルドノア・ゼロ                ┆ 2   │\n",
       "│ みなみけ                        ┆ 2   │\n",
       "│ 劇場版 境界の彼方 I'LL BE HERE  ┆ 2   │\n",
       "│ 過去篇                          ┆     │\n",
       "│ ブラック★ロックシューター       ┆ 2   │\n",
       "│ ぬらりひょんの孫                ┆ 2   │\n",
       "│ 劇場版 FAIRY TAIL 鳳凰の巫女    ┆ 2   │\n",
       "│ ありふれた職業で世界最強        ┆ 2   │\n",
       "│ 犬夜叉                          ┆ 2   │\n",
       "│ ベイビーステップ                ┆ 2   │\n",
       "│ DARKER THAN BLACK 流星の双子    ┆ 2   │\n",
       "│ 境界線上のホライゾン            ┆ 2   │\n",
       "│ .hack//SIGN                     ┆ 2   │\n",
       "└─────────────────────────────────┴─────┘"
      ]
     },
     "execution_count": 22,
     "metadata": {},
     "output_type": "execute_result"
    }
   ],
   "source": [
    "processed_anime_df.group_by(\"original_work_name\").len().filter(pl.col(\"len\") > 1).sort(\"len\", descending=True)\n"
   ]
  },
  {
   "cell_type": "code",
   "execution_count": 25,
   "metadata": {},
   "outputs": [
    {
     "data": {
      "text/html": [
       "<div><style>\n",
       ".dataframe > thead > tr,\n",
       ".dataframe > tbody > tr {\n",
       "  text-align: right;\n",
       "  white-space: pre-wrap;\n",
       "}\n",
       "</style>\n",
       "<small>shape: (17, 19)</small><table border=\"1\" class=\"dataframe\"><thead><tr><th>anime_id</th><th>genres</th><th>japanese_name</th><th>type</th><th>episodes</th><th>aired</th><th>producers</th><th>licensors</th><th>studios</th><th>source</th><th>duration</th><th>rating</th><th>members</th><th>watching</th><th>completed</th><th>on_hold</th><th>dropped</th><th>plan_to_watch</th><th>original_work_name</th></tr><tr><td>str</td><td>str</td><td>str</td><td>str</td><td>str</td><td>str</td><td>str</td><td>str</td><td>str</td><td>str</td><td>str</td><td>str</td><td>i64</td><td>i64</td><td>i64</td><td>i64</td><td>i64</td><td>i64</td><td>str</td></tr></thead><tbody><tr><td>&quot;183899c73d1a95dafcbc&quot;</td><td>&quot;Action, Sci-Fi, Adventure, Com…</td><td>&quot;ドラゴンボールZ オラの悟飯をかえせッ!!&quot;</td><td>&quot;Movie&quot;</td><td>&quot;1&quot;</td><td>&quot;Jul 15, 1989&quot;</td><td>&quot;Unknown&quot;</td><td>&quot;Funimation&quot;</td><td>&quot;Toei Animation&quot;</td><td>&quot;Manga&quot;</td><td>&quot;41 min.&quot;</td><td>&quot;PG-13 - Teens 13 or older&quot;</td><td>95872</td><td>546</td><td>90532</td><td>288</td><td>237</td><td>4269</td><td>&quot;ドラゴンボール&quot;</td></tr><tr><td>&quot;1d107f1b5bbec18a36ce&quot;</td><td>&quot;Action, Adventure, Super Power…</td><td>&quot;ドラゴンボールZ 神と神&quot;</td><td>&quot;Movie&quot;</td><td>&quot;1&quot;</td><td>&quot;Mar 30, 2013&quot;</td><td>&quot;Unknown&quot;</td><td>&quot;Funimation&quot;</td><td>&quot;Toei Animation&quot;</td><td>&quot;Manga&quot;</td><td>&quot;1 hr. 25 min.&quot;</td><td>&quot;PG-13 - Teens 13 or older&quot;</td><td>153734</td><td>1124</td><td>145351</td><td>327</td><td>311</td><td>6621</td><td>&quot;ドラゴンボール&quot;</td></tr><tr><td>&quot;34a5b46ac7364664ec62&quot;</td><td>&quot;Action, Adventure, Comedy, Fan…</td><td>&quot;ドラゴンボールZ 超戦士撃破!!勝のはオレだ&quot;</td><td>&quot;Movie&quot;</td><td>&quot;1&quot;</td><td>&quot;Jul 9, 1994&quot;</td><td>&quot;Unknown&quot;</td><td>&quot;Funimation&quot;</td><td>&quot;Toei Animation&quot;</td><td>&quot;Manga&quot;</td><td>&quot;50 min.&quot;</td><td>&quot;PG-13 - Teens 13 or older&quot;</td><td>92592</td><td>560</td><td>86298</td><td>316</td><td>305</td><td>5113</td><td>&quot;ドラゴンボール&quot;</td></tr><tr><td>&quot;3a21fb3f57c49b7f9790&quot;</td><td>&quot;Action, Adventure, Comedy, Sup…</td><td>&quot;ドラゴンボール超（スーパー）&quot;</td><td>&quot;TV&quot;</td><td>&quot;131&quot;</td><td>&quot;Jul 5, 2015 to Mar 25, 2018&quot;</td><td>&quot;Yomiko Advertising, Fuji TV&quot;</td><td>&quot;Funimation&quot;</td><td>&quot;Toei Animation&quot;</td><td>&quot;Manga&quot;</td><td>&quot;23 min. per ep.&quot;</td><td>&quot;PG-13 - Teens 13 or older&quot;</td><td>536891</td><td>99165</td><td>345941</td><td>22202</td><td>27883</td><td>41700</td><td>&quot;ドラゴンボール&quot;</td></tr><tr><td>&quot;3e1f1b4fe63e9457d20d&quot;</td><td>&quot;Action, Adventure, Comedy, Fan…</td><td>&quot;ドラゴンボールZ 極限バトル!!三大超サイヤ人&quot;</td><td>&quot;Movie&quot;</td><td>&quot;1&quot;</td><td>&quot;Jul 11, 1992&quot;</td><td>&quot;Unknown&quot;</td><td>&quot;Funimation&quot;</td><td>&quot;Toei Animation&quot;</td><td>&quot;Manga&quot;</td><td>&quot;45 min.&quot;</td><td>&quot;PG-13 - Teens 13 or older&quot;</td><td>93363</td><td>513</td><td>87540</td><td>309</td><td>250</td><td>4751</td><td>&quot;ドラゴンボール&quot;</td></tr><tr><td>&quot;4b1ca80941f1130469ae&quot;</td><td>&quot;Action, Adventure, Comedy, Fan…</td><td>&quot;ドラゴンボールZ&quot;</td><td>&quot;TV&quot;</td><td>&quot;291&quot;</td><td>&quot;Apr 26, 1989 to Jan 31, 1996&quot;</td><td>&quot;Fuji TV&quot;</td><td>&quot;Funimation&quot;</td><td>&quot;Toei Animation&quot;</td><td>&quot;Manga&quot;</td><td>&quot;24 min. per ep.&quot;</td><td>&quot;PG-13 - Teens 13 or older&quot;</td><td>888982</td><td>32608</td><td>772421</td><td>19285</td><td>23682</td><td>40986</td><td>&quot;ドラゴンボール&quot;</td></tr><tr><td>&quot;5335c0c989bf6754fa44&quot;</td><td>&quot;Action, Adventure, Comedy, Sup…</td><td>&quot;ドラゴンボール改&quot;</td><td>&quot;TV&quot;</td><td>&quot;61&quot;</td><td>&quot;Apr 6, 2014 to Jun 28, 2015&quot;</td><td>&quot;Unknown&quot;</td><td>&quot;Funimation&quot;</td><td>&quot;Toei Animation&quot;</td><td>&quot;Manga&quot;</td><td>&quot;23 min. per ep.&quot;</td><td>&quot;PG-13 - Teens 13 or older&quot;</td><td>127879</td><td>7268</td><td>98522</td><td>3206</td><td>3797</td><td>15086</td><td>&quot;ドラゴンボール&quot;</td></tr><tr><td>&quot;5778343cc74e5a493866&quot;</td><td>&quot;Adventure, Comedy, Fantasy, Ma…</td><td>&quot;ドラゴンボール&quot;</td><td>&quot;TV&quot;</td><td>&quot;153&quot;</td><td>&quot;Feb 26, 1986 to Apr 12, 1989&quot;</td><td>&quot;Fuji TV&quot;</td><td>&quot;Funimation&quot;</td><td>&quot;Toei Animation&quot;</td><td>&quot;Manga&quot;</td><td>&quot;24 min. per ep.&quot;</td><td>&quot;PG-13 - Teens 13 or older&quot;</td><td>735546</td><td>37544</td><td>600337</td><td>27310</td><td>23902</td><td>46453</td><td>&quot;ドラゴンボール&quot;</td></tr><tr><td>&quot;5d17b17847a070a6523e&quot;</td><td>&quot;Action, Adventure, Fantasy, Sc…</td><td>&quot;ドラゴンボールZ 超サイヤ人だ孫悟空&quot;</td><td>&quot;Movie&quot;</td><td>&quot;1&quot;</td><td>&quot;Mar 9, 1991&quot;</td><td>&quot;Unknown&quot;</td><td>&quot;Funimation&quot;</td><td>&quot;Toei Animation&quot;</td><td>&quot;Manga&quot;</td><td>&quot;51 min.&quot;</td><td>&quot;PG-13 - Teens 13 or older&quot;</td><td>91878</td><td>520</td><td>86174</td><td>295</td><td>247</td><td>4642</td><td>&quot;ドラゴンボール&quot;</td></tr><tr><td>&quot;73c2f7a54b844be20d25&quot;</td><td>&quot;Action, Sci-Fi, Adventure, Com…</td><td>&quot;ドラゴンボールZ この世で一番強いヤツ&quot;</td><td>&quot;Movie&quot;</td><td>&quot;1&quot;</td><td>&quot;Mar 10, 1990&quot;</td><td>&quot;Unknown&quot;</td><td>&quot;Funimation&quot;</td><td>&quot;Toei Animation&quot;</td><td>&quot;Manga&quot;</td><td>&quot;1 hr.&quot;</td><td>&quot;PG-13 - Teens 13 or older&quot;</td><td>89156</td><td>486</td><td>83680</td><td>283</td><td>245</td><td>4462</td><td>&quot;ドラゴンボール&quot;</td></tr><tr><td>&quot;941cab3aa8ae7255fd2c&quot;</td><td>&quot;Action, Adventure, Super Power…</td><td>&quot;ドラゴンボール超（スーパー） ブロリー&quot;</td><td>&quot;Movie&quot;</td><td>&quot;1&quot;</td><td>&quot;Dec 14, 2018&quot;</td><td>&quot;Shueisha, Echoes&quot;</td><td>&quot;Funimation&quot;</td><td>&quot;Toei Animation&quot;</td><td>&quot;Manga&quot;</td><td>&quot;1 hr. 40 min.&quot;</td><td>&quot;PG-13 - Teens 13 or older&quot;</td><td>207325</td><td>2941</td><td>178600</td><td>443</td><td>378</td><td>24963</td><td>&quot;ドラゴンボール&quot;</td></tr><tr><td>&quot;a606cd8b05ce130e57a9&quot;</td><td>&quot;Action, Adventure, Comedy, Fan…</td><td>&quot;ドラゴンボールZ とびっきりの最強対最強&quot;</td><td>&quot;Movie&quot;</td><td>&quot;1&quot;</td><td>&quot;Jul 20, 1991&quot;</td><td>&quot;Unknown&quot;</td><td>&quot;Funimation&quot;</td><td>&quot;Toei Animation&quot;</td><td>&quot;Manga&quot;</td><td>&quot;46 min.&quot;</td><td>&quot;PG-13 - Teens 13 or older&quot;</td><td>110075</td><td>623</td><td>104163</td><td>305</td><td>261</td><td>4723</td><td>&quot;ドラゴンボール&quot;</td></tr><tr><td>&quot;a98989955c6d4feeed54&quot;</td><td>&quot;Action, Sci-Fi, Adventure, Com…</td><td>&quot;ドラゴンボールGT&quot;</td><td>&quot;TV&quot;</td><td>&quot;64&quot;</td><td>&quot;Feb 7, 1996 to Nov 19, 1997&quot;</td><td>&quot;Fuji TV&quot;</td><td>&quot;Funimation&quot;</td><td>&quot;Toei Animation&quot;</td><td>&quot;Manga&quot;</td><td>&quot;23 min. per ep.&quot;</td><td>&quot;PG-13 - Teens 13 or older&quot;</td><td>472177</td><td>9834</td><td>408494</td><td>7582</td><td>21120</td><td>25147</td><td>&quot;ドラゴンボール&quot;</td></tr><tr><td>&quot;adc3897a70e9648da9c7&quot;</td><td>&quot;Action, Adventure, Comedy, Fan…</td><td>&quot;ドラゴンボール改&quot;</td><td>&quot;TV&quot;</td><td>&quot;97&quot;</td><td>&quot;Apr 5, 2009 to Mar 27, 2011&quot;</td><td>&quot;Unknown&quot;</td><td>&quot;Funimation&quot;</td><td>&quot;Toei Animation&quot;</td><td>&quot;Manga&quot;</td><td>&quot;23 min. per ep.&quot;</td><td>&quot;PG-13 - Teens 13 or older&quot;</td><td>269840</td><td>14520</td><td>212339</td><td>8830</td><td>10881</td><td>23270</td><td>&quot;ドラゴンボール&quot;</td></tr><tr><td>&quot;bf5e7f440b9461f86876&quot;</td><td>&quot;Action, Adventure, Comedy, Sup…</td><td>&quot;ドラゴンボールZ 復活の「F」&quot;</td><td>&quot;Movie&quot;</td><td>&quot;1&quot;</td><td>&quot;Apr 18, 2015&quot;</td><td>&quot;Fuji TV, Bandai, Evil Line Rec…</td><td>&quot;Funimation&quot;</td><td>&quot;Toei Animation&quot;</td><td>&quot;Manga&quot;</td><td>&quot;1 hr. 47 min.&quot;</td><td>&quot;PG-13 - Teens 13 or older&quot;</td><td>120580</td><td>1091</td><td>111178</td><td>304</td><td>280</td><td>7727</td><td>&quot;ドラゴンボール&quot;</td></tr><tr><td>&quot;e3d5ae59b6d46ddcd1bd&quot;</td><td>&quot;Action, Adventure, Comedy, Fan…</td><td>&quot;ドラゴンボールZ 復活のフュージョン!!悟空とベジータ&quot;</td><td>&quot;Movie&quot;</td><td>&quot;1&quot;</td><td>&quot;Mar 4, 1995&quot;</td><td>&quot;Studio Take Off&quot;</td><td>&quot;Funimation&quot;</td><td>&quot;Toei Animation&quot;</td><td>&quot;Manga&quot;</td><td>&quot;55 min.&quot;</td><td>&quot;PG-13 - Teens 13 or older&quot;</td><td>110657</td><td>727</td><td>104334</td><td>323</td><td>250</td><td>5023</td><td>&quot;ドラゴンボール&quot;</td></tr><tr><td>&quot;eb70235dd0c28832740d&quot;</td><td>&quot;Action, Adventure, Comedy, Fan…</td><td>&quot;ドラゴンボールZ 地球まるごと超決戦&quot;</td><td>&quot;Movie&quot;</td><td>&quot;1&quot;</td><td>&quot;Jul 7, 1990&quot;</td><td>&quot;Unknown&quot;</td><td>&quot;Funimation&quot;</td><td>&quot;Toei Animation&quot;</td><td>&quot;Manga&quot;</td><td>&quot;1 hr. 1 min.&quot;</td><td>&quot;PG-13 - Teens 13 or older&quot;</td><td>103063</td><td>632</td><td>97303</td><td>293</td><td>265</td><td>4570</td><td>&quot;ドラゴンボール&quot;</td></tr></tbody></table></div>"
      ],
      "text/plain": [
       "shape: (17, 19)\n",
       "┌─────────────┬─────────────┬────────────┬───────┬───┬─────────┬─────────┬────────────┬────────────┐\n",
       "│ anime_id    ┆ genres      ┆ japanese_n ┆ type  ┆ … ┆ on_hold ┆ dropped ┆ plan_to_wa ┆ original_w │\n",
       "│ ---         ┆ ---         ┆ ame        ┆ ---   ┆   ┆ ---     ┆ ---     ┆ tch        ┆ ork_name   │\n",
       "│ str         ┆ str         ┆ ---        ┆ str   ┆   ┆ i64     ┆ i64     ┆ ---        ┆ ---        │\n",
       "│             ┆             ┆ str        ┆       ┆   ┆         ┆         ┆ i64        ┆ str        │\n",
       "╞═════════════╪═════════════╪════════════╪═══════╪═══╪═════════╪═════════╪════════════╪════════════╡\n",
       "│ 183899c73d1 ┆ Action,     ┆ ドラゴンボ ┆ Movie ┆ … ┆ 288     ┆ 237     ┆ 4269       ┆ ドラゴンボ │\n",
       "│ a95dafcbc   ┆ Sci-Fi,     ┆ ールZ オラ ┆       ┆   ┆         ┆         ┆            ┆ ール       │\n",
       "│             ┆ Adventure,  ┆ の悟飯をか ┆       ┆   ┆         ┆         ┆            ┆            │\n",
       "│             ┆ Com…        ┆ えせッ!!   ┆       ┆   ┆         ┆         ┆            ┆            │\n",
       "│ 1d107f1b5bb ┆ Action,     ┆ ドラゴンボ ┆ Movie ┆ … ┆ 327     ┆ 311     ┆ 6621       ┆ ドラゴンボ │\n",
       "│ ec18a36ce   ┆ Adventure,  ┆ ールZ      ┆       ┆   ┆         ┆         ┆            ┆ ール       │\n",
       "│             ┆ Super       ┆ 神と神     ┆       ┆   ┆         ┆         ┆            ┆            │\n",
       "│             ┆ Power…      ┆            ┆       ┆   ┆         ┆         ┆            ┆            │\n",
       "│ 34a5b46ac73 ┆ Action,     ┆ ドラゴンボ ┆ Movie ┆ … ┆ 316     ┆ 305     ┆ 5113       ┆ ドラゴンボ │\n",
       "│ 64664ec62   ┆ Adventure,  ┆ ールZ 超戦 ┆       ┆   ┆         ┆         ┆            ┆ ール       │\n",
       "│             ┆ Comedy,     ┆ 士撃破!!勝 ┆       ┆   ┆         ┆         ┆            ┆            │\n",
       "│             ┆ Fan…        ┆ のはオレだ ┆       ┆   ┆         ┆         ┆            ┆            │\n",
       "│ 3a21fb3f57c ┆ Action,     ┆ ドラゴンボ ┆ TV    ┆ … ┆ 22202   ┆ 27883   ┆ 41700      ┆ ドラゴンボ │\n",
       "│ 49b7f9790   ┆ Adventure,  ┆ ール超（ス ┆       ┆   ┆         ┆         ┆            ┆ ール       │\n",
       "│             ┆ Comedy,     ┆ ーパー）   ┆       ┆   ┆         ┆         ┆            ┆            │\n",
       "│             ┆ Sup…        ┆            ┆       ┆   ┆         ┆         ┆            ┆            │\n",
       "│ 3e1f1b4fe63 ┆ Action,     ┆ ドラゴンボ ┆ Movie ┆ … ┆ 309     ┆ 250     ┆ 4751       ┆ ドラゴンボ │\n",
       "│ e9457d20d   ┆ Adventure,  ┆ ールZ 極限 ┆       ┆   ┆         ┆         ┆            ┆ ール       │\n",
       "│             ┆ Comedy,     ┆ バトル!!三 ┆       ┆   ┆         ┆         ┆            ┆            │\n",
       "│             ┆ Fan…        ┆ 大超サイヤ ┆       ┆   ┆         ┆         ┆            ┆            │\n",
       "│             ┆             ┆ 人         ┆       ┆   ┆         ┆         ┆            ┆            │\n",
       "│ 4b1ca80941f ┆ Action,     ┆ ドラゴンボ ┆ TV    ┆ … ┆ 19285   ┆ 23682   ┆ 40986      ┆ ドラゴンボ │\n",
       "│ 1130469ae   ┆ Adventure,  ┆ ールZ      ┆       ┆   ┆         ┆         ┆            ┆ ール       │\n",
       "│             ┆ Comedy,     ┆            ┆       ┆   ┆         ┆         ┆            ┆            │\n",
       "│             ┆ Fan…        ┆            ┆       ┆   ┆         ┆         ┆            ┆            │\n",
       "│ 5335c0c989b ┆ Action,     ┆ ドラゴンボ ┆ TV    ┆ … ┆ 3206    ┆ 3797    ┆ 15086      ┆ ドラゴンボ │\n",
       "│ f6754fa44   ┆ Adventure,  ┆ ール改     ┆       ┆   ┆         ┆         ┆            ┆ ール       │\n",
       "│             ┆ Comedy,     ┆            ┆       ┆   ┆         ┆         ┆            ┆            │\n",
       "│             ┆ Sup…        ┆            ┆       ┆   ┆         ┆         ┆            ┆            │\n",
       "│ 5778343cc74 ┆ Adventure,  ┆ ドラゴンボ ┆ TV    ┆ … ┆ 27310   ┆ 23902   ┆ 46453      ┆ ドラゴンボ │\n",
       "│ e5a493866   ┆ Comedy,     ┆ ール       ┆       ┆   ┆         ┆         ┆            ┆ ール       │\n",
       "│             ┆ Fantasy,    ┆            ┆       ┆   ┆         ┆         ┆            ┆            │\n",
       "│             ┆ Ma…         ┆            ┆       ┆   ┆         ┆         ┆            ┆            │\n",
       "│ 5d17b17847a ┆ Action,     ┆ ドラゴンボ ┆ Movie ┆ … ┆ 295     ┆ 247     ┆ 4642       ┆ ドラゴンボ │\n",
       "│ 070a6523e   ┆ Adventure,  ┆ ールZ 超サ ┆       ┆   ┆         ┆         ┆            ┆ ール       │\n",
       "│             ┆ Fantasy,    ┆ イヤ人だ孫 ┆       ┆   ┆         ┆         ┆            ┆            │\n",
       "│             ┆ Sc…         ┆ 悟空       ┆       ┆   ┆         ┆         ┆            ┆            │\n",
       "│ 73c2f7a54b8 ┆ Action,     ┆ ドラゴンボ ┆ Movie ┆ … ┆ 283     ┆ 245     ┆ 4462       ┆ ドラゴンボ │\n",
       "│ 44be20d25   ┆ Sci-Fi,     ┆ ールZ この ┆       ┆   ┆         ┆         ┆            ┆ ール       │\n",
       "│             ┆ Adventure,  ┆ 世で一番強 ┆       ┆   ┆         ┆         ┆            ┆            │\n",
       "│             ┆ Com…        ┆ いヤツ     ┆       ┆   ┆         ┆         ┆            ┆            │\n",
       "│ 941cab3aa8a ┆ Action,     ┆ ドラゴンボ ┆ Movie ┆ … ┆ 443     ┆ 378     ┆ 24963      ┆ ドラゴンボ │\n",
       "│ e7255fd2c   ┆ Adventure,  ┆ ール超（ス ┆       ┆   ┆         ┆         ┆            ┆ ール       │\n",
       "│             ┆ Super       ┆ ーパー）   ┆       ┆   ┆         ┆         ┆            ┆            │\n",
       "│             ┆ Power…      ┆ ブロリー   ┆       ┆   ┆         ┆         ┆            ┆            │\n",
       "│ a606cd8b05c ┆ Action,     ┆ ドラゴンボ ┆ Movie ┆ … ┆ 305     ┆ 261     ┆ 4723       ┆ ドラゴンボ │\n",
       "│ e130e57a9   ┆ Adventure,  ┆ ールZ とび ┆       ┆   ┆         ┆         ┆            ┆ ール       │\n",
       "│             ┆ Comedy,     ┆ っきりの最 ┆       ┆   ┆         ┆         ┆            ┆            │\n",
       "│             ┆ Fan…        ┆ 強対最強   ┆       ┆   ┆         ┆         ┆            ┆            │\n",
       "│ a98989955c6 ┆ Action,     ┆ ドラゴンボ ┆ TV    ┆ … ┆ 7582    ┆ 21120   ┆ 25147      ┆ ドラゴンボ │\n",
       "│ d4feeed54   ┆ Sci-Fi,     ┆ ールGT     ┆       ┆   ┆         ┆         ┆            ┆ ール       │\n",
       "│             ┆ Adventure,  ┆            ┆       ┆   ┆         ┆         ┆            ┆            │\n",
       "│             ┆ Com…        ┆            ┆       ┆   ┆         ┆         ┆            ┆            │\n",
       "│ adc3897a70e ┆ Action,     ┆ ドラゴンボ ┆ TV    ┆ … ┆ 8830    ┆ 10881   ┆ 23270      ┆ ドラゴンボ │\n",
       "│ 9648da9c7   ┆ Adventure,  ┆ ール改     ┆       ┆   ┆         ┆         ┆            ┆ ール       │\n",
       "│             ┆ Comedy,     ┆            ┆       ┆   ┆         ┆         ┆            ┆            │\n",
       "│             ┆ Fan…        ┆            ┆       ┆   ┆         ┆         ┆            ┆            │\n",
       "│ bf5e7f440b9 ┆ Action,     ┆ ドラゴンボ ┆ Movie ┆ … ┆ 304     ┆ 280     ┆ 7727       ┆ ドラゴンボ │\n",
       "│ 461f86876   ┆ Adventure,  ┆ ールZ 復活 ┆       ┆   ┆         ┆         ┆            ┆ ール       │\n",
       "│             ┆ Comedy,     ┆ の「F」    ┆       ┆   ┆         ┆         ┆            ┆            │\n",
       "│             ┆ Sup…        ┆            ┆       ┆   ┆         ┆         ┆            ┆            │\n",
       "│ e3d5ae59b6d ┆ Action,     ┆ ドラゴンボ ┆ Movie ┆ … ┆ 323     ┆ 250     ┆ 5023       ┆ ドラゴンボ │\n",
       "│ 46ddcd1bd   ┆ Adventure,  ┆ ールZ 復活 ┆       ┆   ┆         ┆         ┆            ┆ ール       │\n",
       "│             ┆ Comedy,     ┆ のフュージ ┆       ┆   ┆         ┆         ┆            ┆            │\n",
       "│             ┆ Fan…        ┆ ョン!!悟空 ┆       ┆   ┆         ┆         ┆            ┆            │\n",
       "│             ┆             ┆ とベジータ ┆       ┆   ┆         ┆         ┆            ┆            │\n",
       "│ eb70235dd0c ┆ Action,     ┆ ドラゴンボ ┆ Movie ┆ … ┆ 293     ┆ 265     ┆ 4570       ┆ ドラゴンボ │\n",
       "│ 28832740d   ┆ Adventure,  ┆ ールZ 地球 ┆       ┆   ┆         ┆         ┆            ┆ ール       │\n",
       "│             ┆ Comedy,     ┆ まるごと超 ┆       ┆   ┆         ┆         ┆            ┆            │\n",
       "│             ┆ Fan…        ┆ 決戦       ┆       ┆   ┆         ┆         ┆            ┆            │\n",
       "└─────────────┴─────────────┴────────────┴───────┴───┴─────────┴─────────┴────────────┴────────────┘"
      ]
     },
     "execution_count": 25,
     "metadata": {},
     "output_type": "execute_result"
    }
   ],
   "source": [
    "processed_anime_df.filter(pl.col(\"original_work_name\") == \"ドラゴンボール\")\n"
   ]
  }
 ],
 "metadata": {
  "kernelspec": {
   "display_name": ".venv",
   "language": "python",
   "name": "python3"
  },
  "language_info": {
   "codemirror_mode": {
    "name": "ipython",
    "version": 3
   },
   "file_extension": ".py",
   "mimetype": "text/x-python",
   "name": "python",
   "nbconvert_exporter": "python",
   "pygments_lexer": "ipython3",
   "version": "3.11.8"
  }
 },
 "nbformat": 4,
 "nbformat_minor": 2
}
