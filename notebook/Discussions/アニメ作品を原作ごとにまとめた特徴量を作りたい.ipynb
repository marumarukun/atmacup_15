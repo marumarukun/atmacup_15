{
 "cells": [
  {
   "cell_type": "code",
   "execution_count": 69,
   "metadata": {},
   "outputs": [],
   "source": [
    "import os\n",
    "from itertools import combinations\n",
    "\n",
    "import Levenshtein\n",
    "import numpy as np\n",
    "import polars as pl\n",
    "from IPython.display import display\n",
    "from scipy.cluster.hierarchy import DisjointSet\n",
    "from tqdm import tqdm\n",
    "\n",
    "from src.config import Config\n",
    "\n",
    "pl.Config.set_tbl_rows(50)\n",
    "cfg = Config.get_cnf()\n"
   ]
  },
  {
   "cell_type": "code",
   "execution_count": 78,
   "metadata": {},
   "outputs": [
    {
     "data": {
      "text/html": [
       "<div><style>\n",
       ".dataframe > thead > tr,\n",
       ".dataframe > tbody > tr {\n",
       "  text-align: right;\n",
       "  white-space: pre-wrap;\n",
       "}\n",
       "</style>\n",
       "<small>shape: (5, 18)</small><table border=\"1\" class=\"dataframe\"><thead><tr><th>anime_id</th><th>genres</th><th>japanese_name</th><th>type</th><th>episodes</th><th>aired</th><th>producers</th><th>licensors</th><th>studios</th><th>source</th><th>duration</th><th>rating</th><th>members</th><th>watching</th><th>completed</th><th>on_hold</th><th>dropped</th><th>plan_to_watch</th></tr><tr><td>str</td><td>str</td><td>str</td><td>str</td><td>str</td><td>str</td><td>str</td><td>str</td><td>str</td><td>str</td><td>str</td><td>str</td><td>i64</td><td>i64</td><td>i64</td><td>i64</td><td>i64</td><td>i64</td></tr></thead><tbody><tr><td>&quot;000ba7f7e34e107e7544&quot;</td><td>&quot;Comedy, Sci-Fi, Seinen, Slice …</td><td>&quot;宇宙兄弟&quot;</td><td>&quot;TV&quot;</td><td>&quot;99&quot;</td><td>&quot;Apr 1, 2012 to Mar 22, 2014&quot;</td><td>&quot;Aniplex, Dentsu, YTV, Trinity …</td><td>&quot;Sentai Filmworks&quot;</td><td>&quot;A-1 Pictures&quot;</td><td>&quot;Manga&quot;</td><td>&quot;24 min. per ep.&quot;</td><td>&quot;PG-13 - Teens 13 or older&quot;</td><td>150428</td><td>16552</td><td>37234</td><td>13009</td><td>6948</td><td>76685</td></tr><tr><td>&quot;00427279d72064e7fb69&quot;</td><td>&quot;Adventure, Slice of Life, Myst…</td><td>&quot;蟲師&quot;</td><td>&quot;TV&quot;</td><td>&quot;26&quot;</td><td>&quot;Oct 23, 2005 to Jun 19, 2006&quot;</td><td>&quot;Avex Entertainment, Marvelous,…</td><td>&quot;Funimation&quot;</td><td>&quot;Artland&quot;</td><td>&quot;Manga&quot;</td><td>&quot;25 min. per ep.&quot;</td><td>&quot;PG-13 - Teens 13 or older&quot;</td><td>620736</td><td>55482</td><td>235371</td><td>42786</td><td>20017</td><td>267080</td></tr><tr><td>&quot;00444b67aaabdf740a68&quot;</td><td>&quot;Adventure, Slice of Life, Myst…</td><td>&quot;蟲師 続章&quot;</td><td>&quot;TV&quot;</td><td>&quot;10&quot;</td><td>&quot;Apr 5, 2014 to Jun 21, 2014&quot;</td><td>&quot;Aniplex, Kodansha, Delfi Sound&quot;</td><td>&quot;Aniplex of America&quot;</td><td>&quot;Artland&quot;</td><td>&quot;Manga&quot;</td><td>&quot;24 min. per ep.&quot;</td><td>&quot;PG-13 - Teens 13 or older&quot;</td><td>226522</td><td>12585</td><td>113559</td><td>6095</td><td>2606</td><td>91677</td></tr><tr><td>&quot;00839a3507ab168abe75&quot;</td><td>&quot;Comedy, Ecchi, Fantasy, School&quot;</td><td>&quot;星刻の竜騎士&quot;</td><td>&quot;TV&quot;</td><td>&quot;12&quot;</td><td>&quot;Apr 5, 2014 to Jun 21, 2014&quot;</td><td>&quot;Media Factory, AT-X, Sony Musi…</td><td>&quot;Funimation&quot;</td><td>&quot;C-Station&quot;</td><td>&quot;Light novel&quot;</td><td>&quot;24 min. per ep.&quot;</td><td>&quot;R+ - Mild Nudity&quot;</td><td>170220</td><td>8723</td><td>118202</td><td>3753</td><td>8034</td><td>31508</td></tr><tr><td>&quot;0192331235e110fe4f76&quot;</td><td>&quot;Comedy, Harem, Romance, Sci-Fi…</td><td>&quot;天地無用！&quot;</td><td>&quot;TV&quot;</td><td>&quot;26&quot;</td><td>&quot;Apr 2, 1995 to Sep 24, 1995&quot;</td><td>&quot;TV Tokyo, Pioneer LDC&quot;</td><td>&quot;Funimation, Geneon Entertainme…</td><td>&quot;AIC&quot;</td><td>&quot;Original&quot;</td><td>&quot;23 min. per ep.&quot;</td><td>&quot;PG-13 - Teens 13 or older&quot;</td><td>62599</td><td>2565</td><td>39890</td><td>2093</td><td>1986</td><td>16065</td></tr></tbody></table></div>"
      ],
      "text/plain": [
       "shape: (5, 18)\n",
       "┌─────────────┬─────────────┬─────────────┬──────┬───┬───────────┬─────────┬─────────┬─────────────┐\n",
       "│ anime_id    ┆ genres      ┆ japanese_na ┆ type ┆ … ┆ completed ┆ on_hold ┆ dropped ┆ plan_to_wat │\n",
       "│ ---         ┆ ---         ┆ me          ┆ ---  ┆   ┆ ---       ┆ ---     ┆ ---     ┆ ch          │\n",
       "│ str         ┆ str         ┆ ---         ┆ str  ┆   ┆ i64       ┆ i64     ┆ i64     ┆ ---         │\n",
       "│             ┆             ┆ str         ┆      ┆   ┆           ┆         ┆         ┆ i64         │\n",
       "╞═════════════╪═════════════╪═════════════╪══════╪═══╪═══════════╪═════════╪═════════╪═════════════╡\n",
       "│ 000ba7f7e34 ┆ Comedy,     ┆ 宇宙兄弟    ┆ TV   ┆ … ┆ 37234     ┆ 13009   ┆ 6948    ┆ 76685       │\n",
       "│ e107e7544   ┆ Sci-Fi,     ┆             ┆      ┆   ┆           ┆         ┆         ┆             │\n",
       "│             ┆ Seinen,     ┆             ┆      ┆   ┆           ┆         ┆         ┆             │\n",
       "│             ┆ Slice …     ┆             ┆      ┆   ┆           ┆         ┆         ┆             │\n",
       "│ 00427279d72 ┆ Adventure,  ┆ 蟲師        ┆ TV   ┆ … ┆ 235371    ┆ 42786   ┆ 20017   ┆ 267080      │\n",
       "│ 064e7fb69   ┆ Slice of    ┆             ┆      ┆   ┆           ┆         ┆         ┆             │\n",
       "│             ┆ Life, Myst… ┆             ┆      ┆   ┆           ┆         ┆         ┆             │\n",
       "│ 00444b67aaa ┆ Adventure,  ┆ 蟲師 続章   ┆ TV   ┆ … ┆ 113559    ┆ 6095    ┆ 2606    ┆ 91677       │\n",
       "│ bdf740a68   ┆ Slice of    ┆             ┆      ┆   ┆           ┆         ┆         ┆             │\n",
       "│             ┆ Life, Myst… ┆             ┆      ┆   ┆           ┆         ┆         ┆             │\n",
       "│ 00839a3507a ┆ Comedy,     ┆ 星刻の竜騎  ┆ TV   ┆ … ┆ 118202    ┆ 3753    ┆ 8034    ┆ 31508       │\n",
       "│ b168abe75   ┆ Ecchi,      ┆ 士          ┆      ┆   ┆           ┆         ┆         ┆             │\n",
       "│             ┆ Fantasy,    ┆             ┆      ┆   ┆           ┆         ┆         ┆             │\n",
       "│             ┆ School      ┆             ┆      ┆   ┆           ┆         ┆         ┆             │\n",
       "│ 0192331235e ┆ Comedy,     ┆ 天地無用！  ┆ TV   ┆ … ┆ 39890     ┆ 2093    ┆ 1986    ┆ 16065       │\n",
       "│ 110fe4f76   ┆ Harem,      ┆             ┆      ┆   ┆           ┆         ┆         ┆             │\n",
       "│             ┆ Romance,    ┆             ┆      ┆   ┆           ┆         ┆         ┆             │\n",
       "│             ┆ Sci-Fi…     ┆             ┆      ┆   ┆           ┆         ┆         ┆             │\n",
       "└─────────────┴─────────────┴─────────────┴──────┴───┴───────────┴─────────┴─────────┴─────────────┘"
      ]
     },
     "execution_count": 78,
     "metadata": {},
     "output_type": "execute_result"
    }
   ],
   "source": [
    "anime_df = pl.read_csv(os.path.join(\"../\", cfg.data.anime_path), try_parse_dates=True)\n",
    "# Unknownという文字列をNoneに変換\n",
    "anime_df = anime_df.with_columns(\n",
    "    pl.when(pl.col(\"japanese_name\") == \"Unknown\").then(None).otherwise(pl.col(\"japanese_name\")).alias(\"japanese_name\")\n",
    ")\n",
    "anime_df.head()\n"
   ]
  },
  {
   "cell_type": "code",
   "execution_count": 87,
   "metadata": {},
   "outputs": [
    {
     "name": "stderr",
     "output_type": "stream",
     "text": [
      "0it [00:00, ?it/s]"
     ]
    },
    {
     "name": "stderr",
     "output_type": "stream",
     "text": [
      "1999000it [00:02, 803204.39it/s]"
     ]
    },
    {
     "name": "stdout",
     "output_type": "stream",
     "text": [
      "raw - japanese_name nunique: 1931\n",
      "processed - japanese_name nunique: 1304\n"
     ]
    },
    {
     "name": "stderr",
     "output_type": "stream",
     "text": [
      "\n"
     ]
    },
    {
     "data": {
      "text/html": [
       "<div><style>\n",
       ".dataframe > thead > tr,\n",
       ".dataframe > tbody > tr {\n",
       "  text-align: right;\n",
       "  white-space: pre-wrap;\n",
       "}\n",
       "</style>\n",
       "<small>shape: (4, 19)</small><table border=\"1\" class=\"dataframe\"><thead><tr><th>anime_id</th><th>genres</th><th>japanese_name</th><th>type</th><th>episodes</th><th>aired</th><th>producers</th><th>licensors</th><th>studios</th><th>source</th><th>duration</th><th>rating</th><th>members</th><th>watching</th><th>completed</th><th>on_hold</th><th>dropped</th><th>plan_to_watch</th><th>original_work_name</th></tr><tr><td>str</td><td>str</td><td>str</td><td>str</td><td>str</td><td>str</td><td>str</td><td>str</td><td>str</td><td>str</td><td>str</td><td>str</td><td>i64</td><td>i64</td><td>i64</td><td>i64</td><td>i64</td><td>i64</td><td>str</td></tr></thead><tbody><tr><td>&quot;000ba7f7e34e107e7544&quot;</td><td>&quot;Comedy, Sci-Fi, Seinen, Slice …</td><td>&quot;宇宙兄弟&quot;</td><td>&quot;TV&quot;</td><td>&quot;99&quot;</td><td>&quot;Apr 1, 2012 to Mar 22, 2014&quot;</td><td>&quot;Aniplex, Dentsu, YTV, Trinity …</td><td>&quot;Sentai Filmworks&quot;</td><td>&quot;A-1 Pictures&quot;</td><td>&quot;Manga&quot;</td><td>&quot;24 min. per ep.&quot;</td><td>&quot;PG-13 - Teens 13 or older&quot;</td><td>150428</td><td>16552</td><td>37234</td><td>13009</td><td>6948</td><td>76685</td><td>&quot;宇宙兄弟&quot;</td></tr><tr><td>&quot;00427279d72064e7fb69&quot;</td><td>&quot;Adventure, Slice of Life, Myst…</td><td>&quot;蟲師&quot;</td><td>&quot;TV&quot;</td><td>&quot;26&quot;</td><td>&quot;Oct 23, 2005 to Jun 19, 2006&quot;</td><td>&quot;Avex Entertainment, Marvelous,…</td><td>&quot;Funimation&quot;</td><td>&quot;Artland&quot;</td><td>&quot;Manga&quot;</td><td>&quot;25 min. per ep.&quot;</td><td>&quot;PG-13 - Teens 13 or older&quot;</td><td>620736</td><td>55482</td><td>235371</td><td>42786</td><td>20017</td><td>267080</td><td>&quot;蟲師&quot;</td></tr><tr><td>&quot;00444b67aaabdf740a68&quot;</td><td>&quot;Adventure, Slice of Life, Myst…</td><td>&quot;蟲師 続章&quot;</td><td>&quot;TV&quot;</td><td>&quot;10&quot;</td><td>&quot;Apr 5, 2014 to Jun 21, 2014&quot;</td><td>&quot;Aniplex, Kodansha, Delfi Sound&quot;</td><td>&quot;Aniplex of America&quot;</td><td>&quot;Artland&quot;</td><td>&quot;Manga&quot;</td><td>&quot;24 min. per ep.&quot;</td><td>&quot;PG-13 - Teens 13 or older&quot;</td><td>226522</td><td>12585</td><td>113559</td><td>6095</td><td>2606</td><td>91677</td><td>&quot;蟲師&quot;</td></tr><tr><td>&quot;00839a3507ab168abe75&quot;</td><td>&quot;Comedy, Ecchi, Fantasy, School&quot;</td><td>&quot;星刻の竜騎士&quot;</td><td>&quot;TV&quot;</td><td>&quot;12&quot;</td><td>&quot;Apr 5, 2014 to Jun 21, 2014&quot;</td><td>&quot;Media Factory, AT-X, Sony Musi…</td><td>&quot;Funimation&quot;</td><td>&quot;C-Station&quot;</td><td>&quot;Light novel&quot;</td><td>&quot;24 min. per ep.&quot;</td><td>&quot;R+ - Mild Nudity&quot;</td><td>170220</td><td>8723</td><td>118202</td><td>3753</td><td>8034</td><td>31508</td><td>&quot;星刻の竜騎士&quot;</td></tr></tbody></table></div>"
      ],
      "text/plain": [
       "shape: (4, 19)\n",
       "┌─────────────┬─────────────┬─────────────┬──────┬───┬─────────┬─────────┬────────────┬────────────┐\n",
       "│ anime_id    ┆ genres      ┆ japanese_na ┆ type ┆ … ┆ on_hold ┆ dropped ┆ plan_to_wa ┆ original_w │\n",
       "│ ---         ┆ ---         ┆ me          ┆ ---  ┆   ┆ ---     ┆ ---     ┆ tch        ┆ ork_name   │\n",
       "│ str         ┆ str         ┆ ---         ┆ str  ┆   ┆ i64     ┆ i64     ┆ ---        ┆ ---        │\n",
       "│             ┆             ┆ str         ┆      ┆   ┆         ┆         ┆ i64        ┆ str        │\n",
       "╞═════════════╪═════════════╪═════════════╪══════╪═══╪═════════╪═════════╪════════════╪════════════╡\n",
       "│ 000ba7f7e34 ┆ Comedy,     ┆ 宇宙兄弟    ┆ TV   ┆ … ┆ 13009   ┆ 6948    ┆ 76685      ┆ 宇宙兄弟   │\n",
       "│ e107e7544   ┆ Sci-Fi,     ┆             ┆      ┆   ┆         ┆         ┆            ┆            │\n",
       "│             ┆ Seinen,     ┆             ┆      ┆   ┆         ┆         ┆            ┆            │\n",
       "│             ┆ Slice …     ┆             ┆      ┆   ┆         ┆         ┆            ┆            │\n",
       "│ 00427279d72 ┆ Adventure,  ┆ 蟲師        ┆ TV   ┆ … ┆ 42786   ┆ 20017   ┆ 267080     ┆ 蟲師       │\n",
       "│ 064e7fb69   ┆ Slice of    ┆             ┆      ┆   ┆         ┆         ┆            ┆            │\n",
       "│             ┆ Life, Myst… ┆             ┆      ┆   ┆         ┆         ┆            ┆            │\n",
       "│ 00444b67aaa ┆ Adventure,  ┆ 蟲師 続章   ┆ TV   ┆ … ┆ 6095    ┆ 2606    ┆ 91677      ┆ 蟲師       │\n",
       "│ bdf740a68   ┆ Slice of    ┆             ┆      ┆   ┆         ┆         ┆            ┆            │\n",
       "│             ┆ Life, Myst… ┆             ┆      ┆   ┆         ┆         ┆            ┆            │\n",
       "│ 00839a3507a ┆ Comedy,     ┆ 星刻の竜騎  ┆ TV   ┆ … ┆ 3753    ┆ 8034    ┆ 31508      ┆ 星刻の竜騎 │\n",
       "│ b168abe75   ┆ Ecchi,      ┆ 士          ┆      ┆   ┆         ┆         ┆            ┆ 士         │\n",
       "│             ┆ Fantasy,    ┆             ┆      ┆   ┆         ┆         ┆            ┆            │\n",
       "│             ┆ School      ┆             ┆      ┆   ┆         ┆         ┆            ┆            │\n",
       "└─────────────┴─────────────┴─────────────┴──────┴───┴─────────┴─────────┴────────────┴────────────┘"
      ]
     },
     "metadata": {},
     "output_type": "display_data"
    }
   ],
   "source": [
    "def get_original_work_name(df, threshold=0.35):\n",
    "    _feature = df[\"japanese_name\"].to_list()\n",
    "    _n = df.height\n",
    "\n",
    "    _disjoint_set = DisjointSet(list(range(_n)))\n",
    "    for i, j in tqdm(combinations(range(_n), 2)):\n",
    "        if _feature[i] is np.nan or _feature[j] is np.nan:\n",
    "            lv_dist, jw_dist = 0.5, 0.5\n",
    "        else:\n",
    "            # my change: 距離ではなく、類似度を計算する = 類似度が高いほど距離は小さくなる\n",
    "            lv_dist = 1 - Levenshtein.ratio(_feature[i], _feature[j])\n",
    "            jw_dist = 1 - Levenshtein.jaro_winkler(_feature[i], _feature[j])\n",
    "        _d = (lv_dist + jw_dist) / 2\n",
    "\n",
    "        if _d < threshold:\n",
    "            _disjoint_set.merge(i, j)\n",
    "\n",
    "    _labels = [None] * _n\n",
    "    for subset in _disjoint_set.subsets():\n",
    "        # label = _feature[list(subset)[0]]\n",
    "        # my change: 類似するタイトル群の中で最も短いタイトルを採用する\n",
    "        label = min([_feature[i] for i in subset if _feature[i] is not None], key=len, default=None)\n",
    "        for element in subset:\n",
    "            _labels[element] = label\n",
    "    df = df.with_columns(pl.Series(\"original_work_name\", _labels))\n",
    "    # df[\"original_work_name\"] = _labels\n",
    "\n",
    "    return df\n",
    "\n",
    "\n",
    "processed_anime_df = get_original_work_name(anime_df)\n",
    "print(f\"raw - japanese_name nunique: {anime_df['japanese_name'].n_unique()}\")\n",
    "print(f\"processed - japanese_name nunique: {processed_anime_df['original_work_name'].n_unique()}\")\n",
    "display(processed_anime_df.head(4))\n"
   ]
  },
  {
   "cell_type": "code",
   "execution_count": 88,
   "metadata": {},
   "outputs": [
    {
     "data": {
      "text/html": [
       "<div><style>\n",
       ".dataframe > thead > tr,\n",
       ".dataframe > tbody > tr {\n",
       "  text-align: right;\n",
       "  white-space: pre-wrap;\n",
       "}\n",
       "</style>\n",
       "<small>shape: (315, 2)</small><table border=\"1\" class=\"dataframe\"><thead><tr><th>original_work_name</th><th>len</th></tr><tr><td>str</td><td>u32</td></tr></thead><tbody><tr><td>&quot;モンスター&quot;</td><td>27</td></tr><tr><td>&quot;ドラゴンボール&quot;</td><td>23</td></tr><tr><td>&quot;ARIA The NATURAL&quot;</td><td>13</td></tr><tr><td>&quot;進撃の巨人&quot;</td><td>13</td></tr><tr><td>&quot;ハイスコアガール&quot;</td><td>12</td></tr><tr><td>&quot;僕のヒーローアカデミア&quot;</td><td>12</td></tr><tr><td>&quot;ディアーズ&quot;</td><td>12</td></tr><tr><td>&quot;ソードアート・オンライン&quot;</td><td>10</td></tr><tr><td>&quot;機動戦士ガンダム&quot;</td><td>10</td></tr><tr><td>&quot;食戟のソーマ&quot;</td><td>8</td></tr><tr><td>&quot;中二病でも恋がしたい!&quot;</td><td>8</td></tr><tr><td>&quot;劇場版 空の境界 the Garden of sinners…</td><td>8</td></tr><tr><td>&quot;To LOVEる -とらぶる-&quot;</td><td>8</td></tr><tr><td>&quot;デジモンアドベンチャー&quot;</td><td>7</td></tr><tr><td>&quot;ハイキュー!!&quot;</td><td>7</td></tr><tr><td>&quot;ブラッドシー&quot;</td><td>7</td></tr><tr><td>&quot;終物語&quot;</td><td>7</td></tr><tr><td>&quot;スレイヤーズ&quot;</td><td>7</td></tr><tr><td>&quot;ジョジョの奇妙な冒険&quot;</td><td>6</td></tr><tr><td>&quot;七つの大罪&quot;</td><td>6</td></tr><tr><td>&quot;戦国BASARA&quot;</td><td>6</td></tr><tr><td>&quot;夏目友人帳&quot;</td><td>6</td></tr><tr><td>&quot;ダンジョンに出会いを求めるのは間違っているだろうか&quot;</td><td>6</td></tr><tr><td>&quot;デート・ア・ライブ&quot;</td><td>6</td></tr><tr><td>&quot;美少女戦士セーラームーン&quot;</td><td>6</td></tr><tr><td>&hellip;</td><td>&hellip;</td></tr><tr><td>&quot;キャプテン翼&quot;</td><td>2</td></tr><tr><td>&quot;ゾンビランドサガ&quot;</td><td>2</td></tr><tr><td>&quot;３Ｄ彼女　リアルガール&quot;</td><td>2</td></tr><tr><td>&quot;薄桜鬼&quot;</td><td>2</td></tr><tr><td>&quot;政宗くんのリベンジ&quot;</td><td>2</td></tr><tr><td>&quot;銀魂. 銀ノ魂篇&quot;</td><td>2</td></tr><tr><td>&quot;黒執事 Book of Circus&quot;</td><td>2</td></tr><tr><td>&quot;四月は君の嘘&quot;</td><td>2</td></tr><tr><td>&quot;グラスリップ&quot;</td><td>2</td></tr><tr><td>&quot;甘城ブリリアントパーク&quot;</td><td>2</td></tr><tr><td>&quot;昭和元禄落語心中&quot;</td><td>2</td></tr><tr><td>&quot;ヲタクに恋は難しい&quot;</td><td>2</td></tr><tr><td>&quot;アルスラーン戦記&quot;</td><td>2</td></tr><tr><td>&quot;ドルアーガの塔 ～the Sword of URUK～&quot;</td><td>2</td></tr><tr><td>&quot;ヨルムンガンド&quot;</td><td>2</td></tr><tr><td>&quot;Darker than BLACK -黒の契約者-&quot;</td><td>2</td></tr><tr><td>&quot;バンパイアハンターD&quot;</td><td>2</td></tr><tr><td>&quot;犬夜叉&quot;</td><td>2</td></tr><tr><td>&quot;攻殻機動隊 STAND ALONE COMPLEX&quot;</td><td>2</td></tr><tr><td>&quot;あの日見た花の名前を僕達はまだ知らない。&quot;</td><td>2</td></tr><tr><td>&quot;ブラックキャット&quot;</td><td>2</td></tr><tr><td>&quot;ご注文はうさぎですか？&quot;</td><td>2</td></tr><tr><td>&quot;Free!-Eternal Summer-&quot;</td><td>2</td></tr><tr><td>&quot;スクールランブル&quot;</td><td>2</td></tr><tr><td>&quot;-クラナド-　もうひとつの世界　智代編&quot;</td><td>2</td></tr></tbody></table></div>"
      ],
      "text/plain": [
       "shape: (315, 2)\n",
       "┌─────────────────────────────────┬─────┐\n",
       "│ original_work_name              ┆ len │\n",
       "│ ---                             ┆ --- │\n",
       "│ str                             ┆ u32 │\n",
       "╞═════════════════════════════════╪═════╡\n",
       "│ モンスター                      ┆ 27  │\n",
       "│ ドラゴンボール                  ┆ 23  │\n",
       "│ ARIA The NATURAL                ┆ 13  │\n",
       "│ 進撃の巨人                      ┆ 13  │\n",
       "│ ハイスコアガール                ┆ 12  │\n",
       "│ 僕のヒーローアカデミア          ┆ 12  │\n",
       "│ ディアーズ                      ┆ 12  │\n",
       "│ ソードアート・オンライン        ┆ 10  │\n",
       "│ 機動戦士ガンダム                ┆ 10  │\n",
       "│ 食戟のソーマ                    ┆ 8   │\n",
       "│ 中二病でも恋がしたい!           ┆ 8   │\n",
       "│ 劇場版 空の境界 the Garden of   ┆ 8   │\n",
       "│ sinners…                        ┆     │\n",
       "│ To LOVEる -とらぶる-            ┆ 8   │\n",
       "│ デジモンアドベンチャー          ┆ 7   │\n",
       "│ ハイキュー!!                    ┆ 7   │\n",
       "│ ブラッドシー                    ┆ 7   │\n",
       "│ 終物語                          ┆ 7   │\n",
       "│ スレイヤーズ                    ┆ 7   │\n",
       "│ ジョジョの奇妙な冒険            ┆ 6   │\n",
       "│ 七つの大罪                      ┆ 6   │\n",
       "│ 戦国BASARA                      ┆ 6   │\n",
       "│ 夏目友人帳                      ┆ 6   │\n",
       "│ ダンジョンに出会いを求めるのは  ┆ 6   │\n",
       "│ 間違っているだろうか            ┆     │\n",
       "│ デート・ア・ライブ              ┆ 6   │\n",
       "│ 美少女戦士セーラームーン        ┆ 6   │\n",
       "│ …                               ┆ …   │\n",
       "│ キャプテン翼                    ┆ 2   │\n",
       "│ ゾンビランドサガ                ┆ 2   │\n",
       "│ ３Ｄ彼女　リアルガール          ┆ 2   │\n",
       "│ 薄桜鬼                          ┆ 2   │\n",
       "│ 政宗くんのリベンジ              ┆ 2   │\n",
       "│ 銀魂. 銀ノ魂篇                  ┆ 2   │\n",
       "│ 黒執事 Book of Circus           ┆ 2   │\n",
       "│ 四月は君の嘘                    ┆ 2   │\n",
       "│ グラスリップ                    ┆ 2   │\n",
       "│ 甘城ブリリアントパーク          ┆ 2   │\n",
       "│ 昭和元禄落語心中                ┆ 2   │\n",
       "│ ヲタクに恋は難しい              ┆ 2   │\n",
       "│ アルスラーン戦記                ┆ 2   │\n",
       "│ ドルアーガの塔 ～the Sword of   ┆ 2   │\n",
       "│ URUK～                          ┆     │\n",
       "│ ヨルムンガンド                  ┆ 2   │\n",
       "│ Darker than BLACK -黒の契約者-  ┆ 2   │\n",
       "│ バンパイアハンターD             ┆ 2   │\n",
       "│ 犬夜叉                          ┆ 2   │\n",
       "│ 攻殻機動隊 STAND ALONE COMPLEX  ┆ 2   │\n",
       "│ あの日見た花の名前を僕達はまだ  ┆ 2   │\n",
       "│ 知らない。                      ┆     │\n",
       "│ ブラックキャット                ┆ 2   │\n",
       "│ ご注文はうさぎですか？          ┆ 2   │\n",
       "│ Free!-Eternal Summer-           ┆ 2   │\n",
       "│ スクールランブル                ┆ 2   │\n",
       "│ -クラナド-　もうひとつの世界　  ┆ 2   │\n",
       "│ 智代編                          ┆     │\n",
       "└─────────────────────────────────┴─────┘"
      ]
     },
     "execution_count": 88,
     "metadata": {},
     "output_type": "execute_result"
    }
   ],
   "source": [
    "processed_anime_df.group_by(\"original_work_name\").len().filter(pl.col(\"len\") > 1).sort(\"len\", descending=True)\n"
   ]
  },
  {
   "cell_type": "code",
   "execution_count": 91,
   "metadata": {},
   "outputs": [
    {
     "data": {
      "text/html": [
       "<div><style>\n",
       ".dataframe > thead > tr,\n",
       ".dataframe > tbody > tr {\n",
       "  text-align: right;\n",
       "  white-space: pre-wrap;\n",
       "}\n",
       "</style>\n",
       "<small>shape: (12, 19)</small><table border=\"1\" class=\"dataframe\"><thead><tr><th>anime_id</th><th>genres</th><th>japanese_name</th><th>type</th><th>episodes</th><th>aired</th><th>producers</th><th>licensors</th><th>studios</th><th>source</th><th>duration</th><th>rating</th><th>members</th><th>watching</th><th>completed</th><th>on_hold</th><th>dropped</th><th>plan_to_watch</th><th>original_work_name</th></tr><tr><td>str</td><td>str</td><td>str</td><td>str</td><td>str</td><td>str</td><td>str</td><td>str</td><td>str</td><td>str</td><td>str</td><td>str</td><td>i64</td><td>i64</td><td>i64</td><td>i64</td><td>i64</td><td>i64</td><td>str</td></tr></thead><tbody><tr><td>&quot;06fbaba4843c19234002&quot;</td><td>&quot;Ecchi, Comedy, Harem, Romance,…</td><td>&quot;ハイスクールD×Dスペシャル&quot;</td><td>&quot;Special&quot;</td><td>&quot;6&quot;</td><td>&quot;Mar 21, 2012 to Aug 29, 2012&quot;</td><td>&quot;Genco, Lantis&quot;</td><td>&quot;Funimation&quot;</td><td>&quot;TNK&quot;</td><td>&quot;Light novel&quot;</td><td>&quot;4 min. per ep.&quot;</td><td>&quot;R+ - Mild Nudity&quot;</td><td>157348</td><td>3103</td><td>138426</td><td>1149</td><td>925</td><td>13745</td><td>&quot;ハイスコアガール&quot;</td></tr><tr><td>&quot;0928df168d8caf6276e7&quot;</td><td>&quot;Comedy, Demons, Ecchi, Harem, …</td><td>&quot;ハイスクールD×D&quot;</td><td>&quot;TV&quot;</td><td>&quot;12&quot;</td><td>&quot;Jan 6, 2012 to Mar 23, 2012&quot;</td><td>&quot;Genco, Lantis, AT-X, PRA, Show…</td><td>&quot;Funimation&quot;</td><td>&quot;TNK&quot;</td><td>&quot;Light novel&quot;</td><td>&quot;24 min. per ep.&quot;</td><td>&quot;R+ - Mild Nudity&quot;</td><td>995532</td><td>34261</td><td>812823</td><td>14742</td><td>34031</td><td>99675</td><td>&quot;ハイスコアガール&quot;</td></tr><tr><td>&quot;387c100fbeea11422f16&quot;</td><td>&quot;Action, Comedy, Demons, Ecchi,…</td><td>&quot;ハイスクールDxD HERO&quot;</td><td>&quot;TV&quot;</td><td>&quot;12&quot;</td><td>&quot;Apr 17, 2018 to Jul 3, 2018&quot;</td><td>&quot;AT-X&quot;</td><td>&quot;Funimation&quot;</td><td>&quot;Passione&quot;</td><td>&quot;Light novel&quot;</td><td>&quot;23 min. per ep.&quot;</td><td>&quot;R+ - Mild Nudity&quot;</td><td>309467</td><td>22899</td><td>202846</td><td>7545</td><td>11680</td><td>64497</td><td>&quot;ハイスコアガール&quot;</td></tr><tr><td>&quot;4d775dfaa13d3fa071da&quot;</td><td>&quot;Comedy, Game, Romance, School,…</td><td>&quot;ハイスコアガール II&quot;</td><td>&quot;TV&quot;</td><td>&quot;9&quot;</td><td>&quot;Oct 26, 2019 to Dec 21, 2019&quot;</td><td>&quot;Square Enix, Mainichi Broadcas…</td><td>&quot;Netflix&quot;</td><td>&quot;J.C.Staff&quot;</td><td>&quot;Manga&quot;</td><td>&quot;23 min. per ep.&quot;</td><td>&quot;PG-13 - Teens 13 or older&quot;</td><td>83181</td><td>4663</td><td>54935</td><td>1463</td><td>1004</td><td>21116</td><td>&quot;ハイスコアガール&quot;</td></tr><tr><td>&quot;81ea3d02f77c804fe686&quot;</td><td>&quot;Action, Ecchi, Comedy, Harem, …</td><td>&quot;ハイスクールD×D BorN OVA 蘇らない不死鳥&quot;</td><td>&quot;OVA&quot;</td><td>&quot;1&quot;</td><td>&quot;Dec 9, 2015&quot;</td><td>&quot;Genco, Lantis&quot;</td><td>&quot;Unknown&quot;</td><td>&quot;TNK&quot;</td><td>&quot;Light novel&quot;</td><td>&quot;24 min.&quot;</td><td>&quot;R+ - Mild Nudity&quot;</td><td>92915</td><td>1843</td><td>75467</td><td>669</td><td>479</td><td>14457</td><td>&quot;ハイスコアガール&quot;</td></tr><tr><td>&quot;9af8ef7dd84dda6b4896&quot;</td><td>&quot;Comedy, Demons, Ecchi, Romance…</td><td>&quot;ハイスクールD×D OVA&quot;</td><td>&quot;OVA&quot;</td><td>&quot;2&quot;</td><td>&quot;Sep 6, 2012 to May 31, 2013&quot;</td><td>&quot;Genco, Lantis, AT-X&quot;</td><td>&quot;Unknown&quot;</td><td>&quot;TNK&quot;</td><td>&quot;Light novel&quot;</td><td>&quot;23 min. per ep.&quot;</td><td>&quot;R+ - Mild Nudity&quot;</td><td>209100</td><td>14602</td><td>168222</td><td>3212</td><td>1731</td><td>21333</td><td>&quot;ハイスコアガール&quot;</td></tr><tr><td>&quot;a00cec15a2e6d6214d97&quot;</td><td>&quot;Action, Harem, Comedy, Demons,…</td><td>&quot;ハイスクールD×D NEW&quot;</td><td>&quot;TV&quot;</td><td>&quot;12&quot;</td><td>&quot;Jul 7, 2013 to Sep 22, 2013&quot;</td><td>&quot;Genco, AT-X, Fujimi Shobo&quot;</td><td>&quot;Funimation&quot;</td><td>&quot;TNK&quot;</td><td>&quot;Light novel&quot;</td><td>&quot;24 min. per ep.&quot;</td><td>&quot;R+ - Mild Nudity&quot;</td><td>668482</td><td>19634</td><td>585660</td><td>7406</td><td>9498</td><td>46284</td><td>&quot;ハイスコアガール&quot;</td></tr><tr><td>&quot;b5af4da89b1b7f6bf52f&quot;</td><td>&quot;Game, Comedy, Romance, School,…</td><td>&quot;ハイスコアガール&quot;</td><td>&quot;TV&quot;</td><td>&quot;12&quot;</td><td>&quot;Jul 14, 2018 to Sep 29, 2018&quot;</td><td>&quot;Square Enix, Warner Bros. Japa…</td><td>&quot;Netflix&quot;</td><td>&quot;J.C.Staff&quot;</td><td>&quot;Manga&quot;</td><td>&quot;24 min. per ep.&quot;</td><td>&quot;PG-13 - Teens 13 or older&quot;</td><td>169402</td><td>9893</td><td>102347</td><td>4306</td><td>6644</td><td>46212</td><td>&quot;ハイスコアガール&quot;</td></tr><tr><td>&quot;bdf7bfe317605327fe97&quot;</td><td>&quot;Comedy, Demons, Ecchi, Romance…</td><td>&quot;ハイスクールD×D NEW OVA おっぱい、包みます！&quot;</td><td>&quot;OVA&quot;</td><td>&quot;1&quot;</td><td>&quot;Mar 10, 2015&quot;</td><td>&quot;Genco&quot;</td><td>&quot;Unknown&quot;</td><td>&quot;TNK&quot;</td><td>&quot;Light novel&quot;</td><td>&quot;24 min.&quot;</td><td>&quot;R+ - Mild Nudity&quot;</td><td>116137</td><td>2139</td><td>96284</td><td>772</td><td>600</td><td>16342</td><td>&quot;ハイスコアガール&quot;</td></tr><tr><td>&quot;d8a6c6bcf24ad2414e45&quot;</td><td>&quot;Action, Comedy, Demons, Ecchi,…</td><td>&quot;ハイスクールD×D BorN&quot;</td><td>&quot;TV&quot;</td><td>&quot;12&quot;</td><td>&quot;Apr 4, 2015 to Jun 20, 2015&quot;</td><td>&quot;Genco, Lantis, AT-X, Fujimi Sh…</td><td>&quot;Funimation&quot;</td><td>&quot;TNK&quot;</td><td>&quot;Light novel&quot;</td><td>&quot;24 min. per ep.&quot;</td><td>&quot;R+ - Mild Nudity&quot;</td><td>571266</td><td>20004</td><td>484271</td><td>7532</td><td>9772</td><td>49687</td><td>&quot;ハイスコアガール&quot;</td></tr><tr><td>&quot;e5ab635bf75b29b21ec6&quot;</td><td>&quot;Action, Military, School&quot;</td><td>&quot;ハイスクール・フリート&quot;</td><td>&quot;TV&quot;</td><td>&quot;12&quot;</td><td>&quot;Apr 10, 2016 to Jun 26, 2016&quot;</td><td>&quot;Aniplex, Half H.P Studio, Asmi…</td><td>&quot;Aniplex of America&quot;</td><td>&quot;Production IMS&quot;</td><td>&quot;Original&quot;</td><td>&quot;24 min. per ep.&quot;</td><td>&quot;PG-13 - Teens 13 or older&quot;</td><td>85720</td><td>5403</td><td>43350</td><td>2734</td><td>4414</td><td>29819</td><td>&quot;ハイスコアガール&quot;</td></tr><tr><td>&quot;fe30da89853baa139287&quot;</td><td>&quot;Comedy, Ecchi&quot;</td><td>&quot;ハイスクールD×D BorN  石踏一榮完全監修！妄想爆揺解…</td><td>&quot;Special&quot;</td><td>&quot;6&quot;</td><td>&quot;Jul 24, 2015 to Jan 27, 2016&quot;</td><td>&quot;Genco, Lantis&quot;</td><td>&quot;Funimation&quot;</td><td>&quot;TNK&quot;</td><td>&quot;Light novel&quot;</td><td>&quot;3 min. per ep.&quot;</td><td>&quot;R+ - Mild Nudity&quot;</td><td>62605</td><td>2337</td><td>49915</td><td>870</td><td>536</td><td>8947</td><td>&quot;ハイスコアガール&quot;</td></tr></tbody></table></div>"
      ],
      "text/plain": [
       "shape: (12, 19)\n",
       "┌────────────┬────────────┬────────────┬─────────┬───┬─────────┬─────────┬────────────┬────────────┐\n",
       "│ anime_id   ┆ genres     ┆ japanese_n ┆ type    ┆ … ┆ on_hold ┆ dropped ┆ plan_to_wa ┆ original_w │\n",
       "│ ---        ┆ ---        ┆ ame        ┆ ---     ┆   ┆ ---     ┆ ---     ┆ tch        ┆ ork_name   │\n",
       "│ str        ┆ str        ┆ ---        ┆ str     ┆   ┆ i64     ┆ i64     ┆ ---        ┆ ---        │\n",
       "│            ┆            ┆ str        ┆         ┆   ┆         ┆         ┆ i64        ┆ str        │\n",
       "╞════════════╪════════════╪════════════╪═════════╪═══╪═════════╪═════════╪════════════╪════════════╡\n",
       "│ 06fbaba484 ┆ Ecchi,     ┆ ハイスクー ┆ Special ┆ … ┆ 1149    ┆ 925     ┆ 13745      ┆ ハイスコア │\n",
       "│ 3c19234002 ┆ Comedy,    ┆ ルD×Dスペ  ┆         ┆   ┆         ┆         ┆            ┆ ガール     │\n",
       "│            ┆ Harem,     ┆ シャル     ┆         ┆   ┆         ┆         ┆            ┆            │\n",
       "│            ┆ Romance,…  ┆            ┆         ┆   ┆         ┆         ┆            ┆            │\n",
       "│ 0928df168d ┆ Comedy,    ┆ ハイスクー ┆ TV      ┆ … ┆ 14742   ┆ 34031   ┆ 99675      ┆ ハイスコア │\n",
       "│ 8caf6276e7 ┆ Demons,    ┆ ルD×D      ┆         ┆   ┆         ┆         ┆            ┆ ガール     │\n",
       "│            ┆ Ecchi,     ┆            ┆         ┆   ┆         ┆         ┆            ┆            │\n",
       "│            ┆ Harem, …   ┆            ┆         ┆   ┆         ┆         ┆            ┆            │\n",
       "│ 387c100fbe ┆ Action,    ┆ ハイスクー ┆ TV      ┆ … ┆ 7545    ┆ 11680   ┆ 64497      ┆ ハイスコア │\n",
       "│ ea11422f16 ┆ Comedy,    ┆ ルDxD HERO ┆         ┆   ┆         ┆         ┆            ┆ ガール     │\n",
       "│            ┆ Demons,    ┆            ┆         ┆   ┆         ┆         ┆            ┆            │\n",
       "│            ┆ Ecchi,…    ┆            ┆         ┆   ┆         ┆         ┆            ┆            │\n",
       "│ 4d775dfaa1 ┆ Comedy,    ┆ ハイスコア ┆ TV      ┆ … ┆ 1463    ┆ 1004    ┆ 21116      ┆ ハイスコア │\n",
       "│ 3d3fa071da ┆ Game,      ┆ ガール II  ┆         ┆   ┆         ┆         ┆            ┆ ガール     │\n",
       "│            ┆ Romance,   ┆            ┆         ┆   ┆         ┆         ┆            ┆            │\n",
       "│            ┆ School,…   ┆            ┆         ┆   ┆         ┆         ┆            ┆            │\n",
       "│ 81ea3d02f7 ┆ Action,    ┆ ハイスクー ┆ OVA     ┆ … ┆ 669     ┆ 479     ┆ 14457      ┆ ハイスコア │\n",
       "│ 7c804fe686 ┆ Ecchi,     ┆ ルD×D BorN ┆         ┆   ┆         ┆         ┆            ┆ ガール     │\n",
       "│            ┆ Comedy,    ┆ OVA 蘇らな ┆         ┆   ┆         ┆         ┆            ┆            │\n",
       "│            ┆ Harem, …   ┆ い不死鳥   ┆         ┆   ┆         ┆         ┆            ┆            │\n",
       "│ 9af8ef7dd8 ┆ Comedy,    ┆ ハイスクー ┆ OVA     ┆ … ┆ 3212    ┆ 1731    ┆ 21333      ┆ ハイスコア │\n",
       "│ 4dda6b4896 ┆ Demons,    ┆ ルD×D OVA  ┆         ┆   ┆         ┆         ┆            ┆ ガール     │\n",
       "│            ┆ Ecchi,     ┆            ┆         ┆   ┆         ┆         ┆            ┆            │\n",
       "│            ┆ Romance…   ┆            ┆         ┆   ┆         ┆         ┆            ┆            │\n",
       "│ a00cec15a2 ┆ Action,    ┆ ハイスクー ┆ TV      ┆ … ┆ 7406    ┆ 9498    ┆ 46284      ┆ ハイスコア │\n",
       "│ e6d6214d97 ┆ Harem,     ┆ ルD×D NEW  ┆         ┆   ┆         ┆         ┆            ┆ ガール     │\n",
       "│            ┆ Comedy,    ┆            ┆         ┆   ┆         ┆         ┆            ┆            │\n",
       "│            ┆ Demons,…   ┆            ┆         ┆   ┆         ┆         ┆            ┆            │\n",
       "│ b5af4da89b ┆ Game,      ┆ ハイスコア ┆ TV      ┆ … ┆ 4306    ┆ 6644    ┆ 46212      ┆ ハイスコア │\n",
       "│ 1b7f6bf52f ┆ Comedy,    ┆ ガール     ┆         ┆   ┆         ┆         ┆            ┆ ガール     │\n",
       "│            ┆ Romance,   ┆            ┆         ┆   ┆         ┆         ┆            ┆            │\n",
       "│            ┆ School,…   ┆            ┆         ┆   ┆         ┆         ┆            ┆            │\n",
       "│ bdf7bfe317 ┆ Comedy,    ┆ ハイスクー ┆ OVA     ┆ … ┆ 772     ┆ 600     ┆ 16342      ┆ ハイスコア │\n",
       "│ 605327fe97 ┆ Demons,    ┆ ルD×D NEW  ┆         ┆   ┆         ┆         ┆            ┆ ガール     │\n",
       "│            ┆ Ecchi,     ┆ OVA おっぱ ┆         ┆   ┆         ┆         ┆            ┆            │\n",
       "│            ┆ Romance…   ┆ い、包みま ┆         ┆   ┆         ┆         ┆            ┆            │\n",
       "│            ┆            ┆ す！       ┆         ┆   ┆         ┆         ┆            ┆            │\n",
       "│ d8a6c6bcf2 ┆ Action,    ┆ ハイスクー ┆ TV      ┆ … ┆ 7532    ┆ 9772    ┆ 49687      ┆ ハイスコア │\n",
       "│ 4ad2414e45 ┆ Comedy,    ┆ ルD×D BorN ┆         ┆   ┆         ┆         ┆            ┆ ガール     │\n",
       "│            ┆ Demons,    ┆            ┆         ┆   ┆         ┆         ┆            ┆            │\n",
       "│            ┆ Ecchi,…    ┆            ┆         ┆   ┆         ┆         ┆            ┆            │\n",
       "│ e5ab635bf7 ┆ Action,    ┆ ハイスクー ┆ TV      ┆ … ┆ 2734    ┆ 4414    ┆ 29819      ┆ ハイスコア │\n",
       "│ 5b29b21ec6 ┆ Military,  ┆ ル・フリー ┆         ┆   ┆         ┆         ┆            ┆ ガール     │\n",
       "│            ┆ School     ┆ ト         ┆         ┆   ┆         ┆         ┆            ┆            │\n",
       "│ fe30da8985 ┆ Comedy,    ┆ ハイスクー ┆ Special ┆ … ┆ 870     ┆ 536     ┆ 8947       ┆ ハイスコア │\n",
       "│ 3baa139287 ┆ Ecchi      ┆ ルD×D BorN ┆         ┆   ┆         ┆         ┆            ┆ ガール     │\n",
       "│            ┆            ┆ 石踏一榮完 ┆         ┆   ┆         ┆         ┆            ┆            │\n",
       "│            ┆            ┆ 全監修！妄 ┆         ┆   ┆         ┆         ┆            ┆            │\n",
       "│            ┆            ┆ 想爆揺解…  ┆         ┆   ┆         ┆         ┆            ┆            │\n",
       "└────────────┴────────────┴────────────┴─────────┴───┴─────────┴─────────┴────────────┴────────────┘"
      ]
     },
     "execution_count": 91,
     "metadata": {},
     "output_type": "execute_result"
    }
   ],
   "source": [
    "processed_anime_df.filter(pl.col(\"original_work_name\") == \"ハイスコアガール\")\n"
   ]
  }
 ],
 "metadata": {
  "kernelspec": {
   "display_name": ".venv",
   "language": "python",
   "name": "python3"
  },
  "language_info": {
   "codemirror_mode": {
    "name": "ipython",
    "version": 3
   },
   "file_extension": ".py",
   "mimetype": "text/x-python",
   "name": "python",
   "nbconvert_exporter": "python",
   "pygments_lexer": "ipython3",
   "version": "3.11.8"
  }
 },
 "nbformat": 4,
 "nbformat_minor": 2
}
