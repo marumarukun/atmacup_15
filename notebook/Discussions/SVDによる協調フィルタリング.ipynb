{
 "cells": [
  {
   "attachments": {},
   "cell_type": "markdown",
   "metadata": {},
   "source": [
    "\n",
    "# 協調フィルタリング\n",
    "\n",
    "協調フィルタリング（Collaborative Filtering）とは、ユーザー間で共有される嗜好性（好み）を基に、あるユーザーがまだ評価していないアイテムに対する評価を予測するための手法です。  \n",
    "例えば、映画の推薦システムでは、一部のユーザーが評価した映画の評価値から、他のユーザーがまだ評価していない映画に対する評価を予測することができます。\n",
    "\n",
    "# SVDを用いた協調フィルタリング\n",
    "\n",
    "SVD（Singular Value Decomposition）を用いた協調フィルタリングは、行列分解の手法の一つであり、評価値の未知の部分を予測するために用いられます。 \n",
    "評価行列を分解することで、ユーザーとアイテムの潜在的な特性を捉え、これを基に評価値の未知の部分を予測します。\n",
    "\n",
    "SVDを用いた協調フィルタリングの手順は以下の通りです。\n",
    "\n",
    "1. **行列の初期化**：評価行列を初期化します。行はユーザー、列はアイテムを表し、各要素はそのユーザーのアイテムに対する評価値を表します。評価が未知の部分はNaNや0で埋められます。\n",
    "2. **行列の分解**：評価行列をSVDによって3つの行列に分解します。分解した行列はユーザーの潜在的な特性を表す行列U、アイテムの潜在的な特性を表す行列V、およびそれらの特性の重要度を表す対角行列Σです。\n",
    "3. **行列の再構成**：分解した行列を元に戻すことで、評価行列の未知の部分を予測します。具体的には、行列U、Σ、Vを掛け合わせることで評価行列を再構成します。\n",
    "\n",
    "評価行列を以下のように表すと、\n",
    "\n",
    "$$\n",
    "R = U \\Sigma V^T\n",
    "$$\n",
    "\n",
    "ここで、Rは評価行列、Uはユーザーの潜在的な特性を表す行列、Σはそれらの特性の重要度を表す対角行列、Vはアイテムの潜在的な特性を表す行列です。\n",
    "\n",
    "4. **評価値の予測**：再構成した評価行列から、評価が未知だった部分の評価値を予測します。\n",
    "\n",
    "*written by ChatGPT"
   ]
  },
  {
   "attachments": {},
   "cell_type": "markdown",
   "metadata": {},
   "source": [
    "# surpriseライブラリを使用した予測"
   ]
  },
  {
   "attachments": {},
   "cell_type": "markdown",
   "metadata": {},
   "source": [
    "### 1. Cross validationによる手法の評価"
   ]
  },
  {
   "cell_type": "code",
   "execution_count": 1,
   "metadata": {},
   "outputs": [
    {
     "name": "stdout",
     "output_type": "stream",
     "text": [
      "Evaluating RMSE of algorithm SVD on 5 split(s).\n",
      "\n",
      "                  Fold 1  Fold 2  Fold 3  Fold 4  Fold 5  Mean    Std     \n",
      "RMSE (testset)    1.2117  1.1947  1.2021  1.2028  1.2017  1.2026  0.0054  \n",
      "Fit time          0.53    0.55    0.52    0.52    0.50    0.52    0.01    \n",
      "Test time         0.06    0.05    0.10    0.10    0.10    0.08    0.02    \n"
     ]
    }
   ],
   "source": [
    "import pandas as pd\n",
    "import polars as pl\n",
    "from surprise import SVD, Dataset, Reader\n",
    "from surprise.model_selection import cross_validate\n",
    "\n",
    "# Define a Reader object\n",
    "# The Reader object helps in parsing the file or dataframe\n",
    "reader = Reader(rating_scale=(1, 10))\n",
    "\n",
    "# Load the dataset\n",
    "train_df = pl.read_csv(\"../../data/input/train.csv\")\n",
    "\n",
    "# Readerオブジェクトを使用して、Surpriseライブラリのデータセット形式に変換\n",
    "train_data = Dataset.load_from_df(train_df[[\"user_id\", \"anime_id\", \"score\"]].to_pandas(), reader)\n",
    "\n",
    "# Use the famous SVD algorithm.\n",
    "algo = SVD()\n",
    "\n",
    "# Run 5-fold cross-validation and print results.\n",
    "_ = cross_validate(\n",
    "    algo,\n",
    "    train_data,\n",
    "    measures=[\n",
    "        \"RMSE\",\n",
    "    ],\n",
    "    cv=5,\n",
    "    verbose=True,\n",
    ")\n"
   ]
  },
  {
   "attachments": {},
   "cell_type": "markdown",
   "metadata": {},
   "source": [
    "### 2. 全trainデータで学習し直す"
   ]
  },
  {
   "cell_type": "code",
   "execution_count": 2,
   "metadata": {},
   "outputs": [],
   "source": [
    "# Create the dataset to be used for building the filter\n",
    "train_data = Dataset.load_from_df(train_df[[\"user_id\", \"anime_id\", \"score\"]].to_pandas(), reader)\n",
    "\n",
    "# Retrieve the trainset.\n",
    "train_data = train_data.build_full_trainset()\n",
    "\n",
    "# Build an algorithm, and train it.\n",
    "algo = SVD()\n",
    "_ = algo.fit(train_data)\n"
   ]
  },
  {
   "attachments": {},
   "cell_type": "markdown",
   "metadata": {},
   "source": [
    "### 3. testデータに対して予測"
   ]
  },
  {
   "cell_type": "code",
   "execution_count": 3,
   "metadata": {},
   "outputs": [],
   "source": [
    "# Load the test dataset\n",
    "test_df = pl.read_csv(\"../../data/input/test.csv\")\n",
    "test_df = test_df.with_columns(score=pl.lit(0))\n",
    "\n",
    "# Convert the test dataset to the surprise format\n",
    "test_set = Dataset.load_from_df(test_df.to_pandas(), reader).build_full_trainset().build_testset()\n",
    "\n",
    "# Predict ratings for the testset\n",
    "predictions = algo.test(test_set)\n",
    "\n",
    "submission = pl.read_csv(\"../../data/input/sample_submission.csv\")\n",
    "\n",
    "# Extract the predicted ratings and add them to the test dataframe\n",
    "preds = [pred.est for pred in predictions]\n",
    "submission = submission.with_columns(pl.Series(preds, strict=False).alias(\"score\"))\n",
    "\n",
    "submission.write_csv(\"../../data/output/submission_svd.csv\")\n"
   ]
  },
  {
   "cell_type": "markdown",
   "metadata": {},
   "source": [
    "この例ではanime.csvの内容は全く使用せず、純粋なユーザーの評価値のみを使用しています。  \n",
    "それらのデータと組み合わせることでさらに精度の向上が期待できますので、試してみてください。"
   ]
  }
 ],
 "metadata": {
  "kernelspec": {
   "display_name": "base",
   "language": "python",
   "name": "python3"
  },
  "language_info": {
   "codemirror_mode": {
    "name": "ipython",
    "version": 3
   },
   "file_extension": ".py",
   "mimetype": "text/x-python",
   "name": "python",
   "nbconvert_exporter": "python",
   "pygments_lexer": "ipython3",
   "version": "3.11.8"
  },
  "orig_nbformat": 4
 },
 "nbformat": 4,
 "nbformat_minor": 2
}
