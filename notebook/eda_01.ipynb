{
 "cells": [
  {
   "cell_type": "code",
   "execution_count": 1,
   "metadata": {},
   "outputs": [],
   "source": [
    "import polars as pl\n"
   ]
  },
  {
   "cell_type": "code",
   "execution_count": 2,
   "metadata": {},
   "outputs": [
    {
     "data": {
      "text/html": [
       "<div><style>\n",
       ".dataframe > thead > tr,\n",
       ".dataframe > tbody > tr {\n",
       "  text-align: right;\n",
       "  white-space: pre-wrap;\n",
       "}\n",
       "</style>\n",
       "<small>shape: (5, 18)</small><table border=\"1\" class=\"dataframe\"><thead><tr><th>anime_id</th><th>genres</th><th>japanese_name</th><th>type</th><th>episodes</th><th>aired</th><th>producers</th><th>licensors</th><th>studios</th><th>source</th><th>duration</th><th>rating</th><th>members</th><th>watching</th><th>completed</th><th>on_hold</th><th>dropped</th><th>plan_to_watch</th></tr><tr><td>str</td><td>str</td><td>str</td><td>str</td><td>str</td><td>str</td><td>str</td><td>str</td><td>str</td><td>str</td><td>str</td><td>str</td><td>i64</td><td>i64</td><td>i64</td><td>i64</td><td>i64</td><td>i64</td></tr></thead><tbody><tr><td>&quot;000ba7f7e34e107e7544&quot;</td><td>&quot;Comedy, Sci-Fi, Seinen, Slice …</td><td>&quot;宇宙兄弟&quot;</td><td>&quot;TV&quot;</td><td>&quot;99&quot;</td><td>&quot;Apr 1, 2012 to Mar 22, 2014&quot;</td><td>&quot;Aniplex, Dentsu, YTV, Trinity …</td><td>&quot;Sentai Filmworks&quot;</td><td>&quot;A-1 Pictures&quot;</td><td>&quot;Manga&quot;</td><td>&quot;24 min. per ep.&quot;</td><td>&quot;PG-13 - Teens 13 or older&quot;</td><td>150428</td><td>16552</td><td>37234</td><td>13009</td><td>6948</td><td>76685</td></tr><tr><td>&quot;00427279d72064e7fb69&quot;</td><td>&quot;Adventure, Slice of Life, Myst…</td><td>&quot;蟲師&quot;</td><td>&quot;TV&quot;</td><td>&quot;26&quot;</td><td>&quot;Oct 23, 2005 to Jun 19, 2006&quot;</td><td>&quot;Avex Entertainment, Marvelous,…</td><td>&quot;Funimation&quot;</td><td>&quot;Artland&quot;</td><td>&quot;Manga&quot;</td><td>&quot;25 min. per ep.&quot;</td><td>&quot;PG-13 - Teens 13 or older&quot;</td><td>620736</td><td>55482</td><td>235371</td><td>42786</td><td>20017</td><td>267080</td></tr><tr><td>&quot;00444b67aaabdf740a68&quot;</td><td>&quot;Adventure, Slice of Life, Myst…</td><td>&quot;蟲師 続章&quot;</td><td>&quot;TV&quot;</td><td>&quot;10&quot;</td><td>&quot;Apr 5, 2014 to Jun 21, 2014&quot;</td><td>&quot;Aniplex, Kodansha, Delfi Sound&quot;</td><td>&quot;Aniplex of America&quot;</td><td>&quot;Artland&quot;</td><td>&quot;Manga&quot;</td><td>&quot;24 min. per ep.&quot;</td><td>&quot;PG-13 - Teens 13 or older&quot;</td><td>226522</td><td>12585</td><td>113559</td><td>6095</td><td>2606</td><td>91677</td></tr><tr><td>&quot;00839a3507ab168abe75&quot;</td><td>&quot;Comedy, Ecchi, Fantasy, School&quot;</td><td>&quot;星刻の竜騎士&quot;</td><td>&quot;TV&quot;</td><td>&quot;12&quot;</td><td>&quot;Apr 5, 2014 to Jun 21, 2014&quot;</td><td>&quot;Media Factory, AT-X, Sony Musi…</td><td>&quot;Funimation&quot;</td><td>&quot;C-Station&quot;</td><td>&quot;Light novel&quot;</td><td>&quot;24 min. per ep.&quot;</td><td>&quot;R+ - Mild Nudity&quot;</td><td>170220</td><td>8723</td><td>118202</td><td>3753</td><td>8034</td><td>31508</td></tr><tr><td>&quot;0192331235e110fe4f76&quot;</td><td>&quot;Comedy, Harem, Romance, Sci-Fi…</td><td>&quot;天地無用！&quot;</td><td>&quot;TV&quot;</td><td>&quot;26&quot;</td><td>&quot;Apr 2, 1995 to Sep 24, 1995&quot;</td><td>&quot;TV Tokyo, Pioneer LDC&quot;</td><td>&quot;Funimation, Geneon Entertainme…</td><td>&quot;AIC&quot;</td><td>&quot;Original&quot;</td><td>&quot;23 min. per ep.&quot;</td><td>&quot;PG-13 - Teens 13 or older&quot;</td><td>62599</td><td>2565</td><td>39890</td><td>2093</td><td>1986</td><td>16065</td></tr></tbody></table></div>"
      ],
      "text/plain": [
       "shape: (5, 18)\n",
       "┌─────────────┬─────────────┬─────────────┬──────┬───┬───────────┬─────────┬─────────┬─────────────┐\n",
       "│ anime_id    ┆ genres      ┆ japanese_na ┆ type ┆ … ┆ completed ┆ on_hold ┆ dropped ┆ plan_to_wat │\n",
       "│ ---         ┆ ---         ┆ me          ┆ ---  ┆   ┆ ---       ┆ ---     ┆ ---     ┆ ch          │\n",
       "│ str         ┆ str         ┆ ---         ┆ str  ┆   ┆ i64       ┆ i64     ┆ i64     ┆ ---         │\n",
       "│             ┆             ┆ str         ┆      ┆   ┆           ┆         ┆         ┆ i64         │\n",
       "╞═════════════╪═════════════╪═════════════╪══════╪═══╪═══════════╪═════════╪═════════╪═════════════╡\n",
       "│ 000ba7f7e34 ┆ Comedy,     ┆ 宇宙兄弟    ┆ TV   ┆ … ┆ 37234     ┆ 13009   ┆ 6948    ┆ 76685       │\n",
       "│ e107e7544   ┆ Sci-Fi,     ┆             ┆      ┆   ┆           ┆         ┆         ┆             │\n",
       "│             ┆ Seinen,     ┆             ┆      ┆   ┆           ┆         ┆         ┆             │\n",
       "│             ┆ Slice …     ┆             ┆      ┆   ┆           ┆         ┆         ┆             │\n",
       "│ 00427279d72 ┆ Adventure,  ┆ 蟲師        ┆ TV   ┆ … ┆ 235371    ┆ 42786   ┆ 20017   ┆ 267080      │\n",
       "│ 064e7fb69   ┆ Slice of    ┆             ┆      ┆   ┆           ┆         ┆         ┆             │\n",
       "│             ┆ Life, Myst… ┆             ┆      ┆   ┆           ┆         ┆         ┆             │\n",
       "│ 00444b67aaa ┆ Adventure,  ┆ 蟲師 続章   ┆ TV   ┆ … ┆ 113559    ┆ 6095    ┆ 2606    ┆ 91677       │\n",
       "│ bdf740a68   ┆ Slice of    ┆             ┆      ┆   ┆           ┆         ┆         ┆             │\n",
       "│             ┆ Life, Myst… ┆             ┆      ┆   ┆           ┆         ┆         ┆             │\n",
       "│ 00839a3507a ┆ Comedy,     ┆ 星刻の竜騎  ┆ TV   ┆ … ┆ 118202    ┆ 3753    ┆ 8034    ┆ 31508       │\n",
       "│ b168abe75   ┆ Ecchi,      ┆ 士          ┆      ┆   ┆           ┆         ┆         ┆             │\n",
       "│             ┆ Fantasy,    ┆             ┆      ┆   ┆           ┆         ┆         ┆             │\n",
       "│             ┆ School      ┆             ┆      ┆   ┆           ┆         ┆         ┆             │\n",
       "│ 0192331235e ┆ Comedy,     ┆ 天地無用！  ┆ TV   ┆ … ┆ 39890     ┆ 2093    ┆ 1986    ┆ 16065       │\n",
       "│ 110fe4f76   ┆ Harem,      ┆             ┆      ┆   ┆           ┆         ┆         ┆             │\n",
       "│             ┆ Romance,    ┆             ┆      ┆   ┆           ┆         ┆         ┆             │\n",
       "│             ┆ Sci-Fi…     ┆             ┆      ┆   ┆           ┆         ┆         ┆             │\n",
       "└─────────────┴─────────────┴─────────────┴──────┴───┴───────────┴─────────┴─────────┴─────────────┘"
      ]
     },
     "metadata": {},
     "output_type": "display_data"
    },
    {
     "data": {
      "text/html": [
       "<div><style>\n",
       ".dataframe > thead > tr,\n",
       ".dataframe > tbody > tr {\n",
       "  text-align: right;\n",
       "  white-space: pre-wrap;\n",
       "}\n",
       "</style>\n",
       "<small>shape: (5, 3)</small><table border=\"1\" class=\"dataframe\"><thead><tr><th>user_id</th><th>anime_id</th><th>score</th></tr><tr><td>str</td><td>str</td><td>i64</td></tr></thead><tbody><tr><td>&quot;0008e10fb39e55447333&quot;</td><td>&quot;0669cc0219d468761195&quot;</td><td>2</td></tr><tr><td>&quot;0008e10fb39e55447333&quot;</td><td>&quot;111adb8835b8a1a2cf54&quot;</td><td>10</td></tr><tr><td>&quot;0008e10fb39e55447333&quot;</td><td>&quot;1fc8683c393432a2f9c7&quot;</td><td>1</td></tr><tr><td>&quot;0008e10fb39e55447333&quot;</td><td>&quot;2290175205d55e81b197&quot;</td><td>8</td></tr><tr><td>&quot;0008e10fb39e55447333&quot;</td><td>&quot;28f173b60331d5cabb0d&quot;</td><td>9</td></tr></tbody></table></div>"
      ],
      "text/plain": [
       "shape: (5, 3)\n",
       "┌──────────────────────┬──────────────────────┬───────┐\n",
       "│ user_id              ┆ anime_id             ┆ score │\n",
       "│ ---                  ┆ ---                  ┆ ---   │\n",
       "│ str                  ┆ str                  ┆ i64   │\n",
       "╞══════════════════════╪══════════════════════╪═══════╡\n",
       "│ 0008e10fb39e55447333 ┆ 0669cc0219d468761195 ┆ 2     │\n",
       "│ 0008e10fb39e55447333 ┆ 111adb8835b8a1a2cf54 ┆ 10    │\n",
       "│ 0008e10fb39e55447333 ┆ 1fc8683c393432a2f9c7 ┆ 1     │\n",
       "│ 0008e10fb39e55447333 ┆ 2290175205d55e81b197 ┆ 8     │\n",
       "│ 0008e10fb39e55447333 ┆ 28f173b60331d5cabb0d ┆ 9     │\n",
       "└──────────────────────┴──────────────────────┴───────┘"
      ]
     },
     "metadata": {},
     "output_type": "display_data"
    },
    {
     "data": {
      "text/html": [
       "<div><style>\n",
       ".dataframe > thead > tr,\n",
       ".dataframe > tbody > tr {\n",
       "  text-align: right;\n",
       "  white-space: pre-wrap;\n",
       "}\n",
       "</style>\n",
       "<small>shape: (5, 2)</small><table border=\"1\" class=\"dataframe\"><thead><tr><th>user_id</th><th>anime_id</th></tr><tr><td>str</td><td>str</td></tr></thead><tbody><tr><td>&quot;0008e10fb39e55447333&quot;</td><td>&quot;04068820a73e52dc3b32&quot;</td></tr><tr><td>&quot;0008e10fb39e55447333&quot;</td><td>&quot;04a3d0b122b24965e909&quot;</td></tr><tr><td>&quot;0008e10fb39e55447333&quot;</td><td>&quot;1447fe1f10b59912d6a8&quot;</td></tr><tr><td>&quot;0008e10fb39e55447333&quot;</td><td>&quot;2622632598c68682afd5&quot;</td></tr><tr><td>&quot;0008e10fb39e55447333&quot;</td><td>&quot;2701850c7216516fec46&quot;</td></tr></tbody></table></div>"
      ],
      "text/plain": [
       "shape: (5, 2)\n",
       "┌──────────────────────┬──────────────────────┐\n",
       "│ user_id              ┆ anime_id             │\n",
       "│ ---                  ┆ ---                  │\n",
       "│ str                  ┆ str                  │\n",
       "╞══════════════════════╪══════════════════════╡\n",
       "│ 0008e10fb39e55447333 ┆ 04068820a73e52dc3b32 │\n",
       "│ 0008e10fb39e55447333 ┆ 04a3d0b122b24965e909 │\n",
       "│ 0008e10fb39e55447333 ┆ 1447fe1f10b59912d6a8 │\n",
       "│ 0008e10fb39e55447333 ┆ 2622632598c68682afd5 │\n",
       "│ 0008e10fb39e55447333 ┆ 2701850c7216516fec46 │\n",
       "└──────────────────────┴──────────────────────┘"
      ]
     },
     "metadata": {},
     "output_type": "display_data"
    }
   ],
   "source": [
    "# データの読み込み\n",
    "df_anime = pl.read_csv(\"../data/input/anime.csv\", try_parse_dates=True)\n",
    "df_train = pl.read_csv(\"../data/input/train.csv\", try_parse_dates=True)\n",
    "df_test = pl.read_csv(\"../data/input/test.csv\", try_parse_dates=True)\n",
    "display(df_anime.head())\n",
    "display(df_train.head())\n",
    "display(df_test.head())\n"
   ]
  },
  {
   "cell_type": "code",
   "execution_count": 3,
   "metadata": {},
   "outputs": [
    {
     "name": "stdout",
     "output_type": "stream",
     "text": [
      "df_anime Memory usage of dataframe became 0.5448 MB.\n",
      "df_train Memory usage of dataframe became 6.2439 MB.\n",
      "df_test Memory usage of dataframe became 4.489 MB.\n"
     ]
    }
   ],
   "source": [
    "print(f\"df_anime Memory usage of dataframe became {round(df_anime.estimated_size('mb'), 4)} MB.\")\n",
    "print(f\"df_train Memory usage of dataframe became {round(df_train.estimated_size('mb'), 4)} MB.\")\n",
    "print(f\"df_test Memory usage of dataframe became {round(df_test.estimated_size('mb'), 4)} MB.\")\n"
   ]
  },
  {
   "cell_type": "code",
   "execution_count": 4,
   "metadata": {},
   "outputs": [
    {
     "name": "stdout",
     "output_type": "stream",
     "text": [
      "df_anime Memory usage of dataframe became 0.499 MB.\n",
      "df_train Memory usage of dataframe became 5.3334 MB.\n",
      "df_test Memory usage of dataframe became 4.489 MB.\n"
     ]
    }
   ],
   "source": [
    "df_anime = df_anime.select(pl.all().shrink_dtype())\n",
    "df_train = df_train.select(pl.all().shrink_dtype())\n",
    "df_test = df_test.select(pl.all().shrink_dtype())\n",
    "print(f\"df_anime Memory usage of dataframe became {round(df_anime.estimated_size('mb'), 4)} MB.\")\n",
    "print(f\"df_train Memory usage of dataframe became {round(df_train.estimated_size('mb'), 4)} MB.\")\n",
    "print(f\"df_test Memory usage of dataframe became {round(df_test.estimated_size('mb'), 4)} MB.\")\n"
   ]
  },
  {
   "cell_type": "code",
   "execution_count": 28,
   "metadata": {},
   "outputs": [],
   "source": [
    "# Baseline\n",
    "\n",
    "import polars as pl\n",
    "from sklearn.model_selection import StratifiedKFold\n",
    "from sklearn.preprocessing import LabelEncoder\n",
    "\n",
    "# Load the data\n",
    "train_df = pl.read_csv(\"../data/input/train.csv\", try_parse_dates=True)\n",
    "anime_df = pl.read_csv(\"../data/input/anime.csv\", try_parse_dates=True)\n",
    "test_df = pl.read_csv(\"../data/input/test.csv\", try_parse_dates=True)\n",
    "\n",
    "# Initialize the StratifiedKFold object\n",
    "skf = StratifiedKFold(n_splits=5)\n",
    "\n",
    "# Create a column for the fold number\n",
    "train_df = train_df.with_columns(pl.lit(-1).alias(\"fold\"))\n",
    "\n",
    "# Assign the fold number to each row\n",
    "for fold, (_, val_index) in enumerate(skf.split(train_df, train_df[\"score\"])):\n",
    "    train_df[val_index, \"fold\"] = fold\n",
    "\n",
    "\n",
    "# Merge the train data with the anime meta data\n",
    "train_merged = train_df.join(anime_df, how=\"left\", on=\"anime_id\")\n",
    "\n",
    "# Prepare the test data\n",
    "test_merged = test_df.join(anime_df, how=\"left\", on=\"anime_id\")\n",
    "\n",
    "# Encode the categorical variables\n",
    "cat_cols = [\"user_id\", \"anime_id\", \"type\", \"source\", \"rating\"]\n",
    "les = []\n",
    "for col in cat_cols:\n",
    "    le = LabelEncoder()\n",
    "    le.fit(pl.concat([train_merged[col], test_merged[col]]).fill_null(\"\"))\n",
    "    encoded_train_col = le.transform(train_merged[col])\n",
    "    encoded_test_col = le.transform(test_merged[col])\n",
    "    train_merged = train_merged.with_columns(pl.Series(col, encoded_train_col).alias(col))\n",
    "    test_merged = test_merged.with_columns(pl.Series(col, encoded_test_col).alias(col))\n",
    "    les.append(le)\n",
    "\n",
    "# # Training and evaluation with LightGBM\n",
    "# scores_lgb = []\n",
    "# models_lgb = []\n",
    "\n",
    "# for fold in range(5):\n",
    "#     print(f\"Training for fold {fold}...\")\n",
    "\n",
    "#     # Prepare the train and validation data\n",
    "#     train_data = train_merged[train_merged['fold'] != fold]\n",
    "#     val_data = train_merged[train_merged['fold'] == fold]\n",
    "\n",
    "#     # Define the features and the target\n",
    "#     features = ['user_id', 'anime_id', 'type', 'source', 'rating', 'members', 'watching', 'completed', 'on_hold', 'dropped', 'plan_to_watch']\n",
    "#     target = 'score'\n",
    "\n",
    "#     # Prepare the LightGBM datasets\n",
    "#     lgb_train = lgb.Dataset(train_data[features], train_data[target])\n",
    "#     lgb_val = lgb.Dataset(val_data[features], val_data[target])\n",
    "\n",
    "# # Define the parameters\n",
    "# params = {\n",
    "#     'objective': 'regression',\n",
    "#     'metric': 'rmse',\n",
    "#     'verbosity': -1,\n",
    "#     'boosting_type': 'gbdt',\n",
    "#     'learning_rate': 0.001,\n",
    "#     'num_leaves': 31,\n",
    "#     'min_child_samples': 20,\n",
    "#     'max_depth': -1,\n",
    "#     'subsample_freq': 0,\n",
    "#     'bagging_seed': 0,\n",
    "#     'feature_fraction': 0.9,\n",
    "#     'bagging_fraction': 0.8,\n",
    "#     'reg_alpha': 0.1,\n",
    "#     'reg_lambda': 0.1,\n",
    "# }\n",
    "\n",
    "#     # Train the model\n",
    "#     callbacks = [\n",
    "#         lgb.early_stopping(stopping_rounds=20),\n",
    "#         lgb.log_evaluation(period=20)\n",
    "#     ]\n",
    "#     model_lgb = lgb.train(params, lgb_train, valid_sets=[lgb_val], callbacks=callbacks)\n",
    "\n",
    "#     # Save the model\n",
    "#     with open(f'model_lgb_{fold}.pkl', 'wb') as f:\n",
    "#         pickle.dump(model_lgb, f)\n",
    "\n",
    "#     # Predict the validation data\n",
    "#     val_pred_lgb = model_lgb.predict(val_data[features], num_iteration=model_lgb.best_iteration)\n",
    "\n",
    "#     # Evaluate the model\n",
    "#     score_lgb = np.sqrt(mean_squared_error(val_data[target], val_pred_lgb))\n",
    "#     scores_lgb.append(score_lgb)\n",
    "\n",
    "#     print(f\"RMSE for fold {fold}: {score_lgb}\")\n",
    "\n",
    "# # Calculate the average score\n",
    "# average_score_lgb = np.mean(scores_lgb)\n",
    "\n",
    "# print(f\"Average RMSE: {average_score_lgb}\")\n",
    "\n",
    "# # Predict the test data and create the submission file\n",
    "# submission_df = pd.read_csv('sample_submission.csv')\n",
    "# submission_df['score'] = 0\n",
    "\n",
    "# for fold in range(5):\n",
    "#     with open(f'model_lgb_{fold}.pkl', 'rb') as f:\n",
    "#         model_lgb = pickle.load(f)\n",
    "#     test_pred_lgb = model_lgb.predict(test_merged[features], num_iteration=model_lgb.best_iteration)\n",
    "#     submission_df['score'] += test_pred_lgb / 5\n",
    "\n",
    "# submission_df.to_csv('submission.csv', index=False)\n"
   ]
  },
  {
   "cell_type": "code",
   "execution_count": 25,
   "metadata": {},
   "outputs": [
    {
     "data": {
      "text/plain": [
       "array([3, 4, 5, ..., 2, 3, 2])"
      ]
     },
     "execution_count": 25,
     "metadata": {},
     "output_type": "execute_result"
    }
   ],
   "source": [
    "encoded_train_col\n"
   ]
  },
  {
   "cell_type": "code",
   "execution_count": 17,
   "metadata": {},
   "outputs": [
    {
     "data": {
      "text/html": [
       "<div><style>\n",
       ".dataframe > thead > tr,\n",
       ".dataframe > tbody > tr {\n",
       "  text-align: right;\n",
       "  white-space: pre-wrap;\n",
       "}\n",
       "</style>\n",
       "<small>shape: (3, 3)</small><table border=\"1\" class=\"dataframe\"><thead><tr><th>user_id</th><th>anime_id</th><th>score</th></tr><tr><td>str</td><td>str</td><td>i64</td></tr></thead><tbody><tr><td>&quot;user_id1&quot;</td><td>&quot;anime_id1&quot;</td><td>1</td></tr><tr><td>&quot;user_id2&quot;</td><td>&quot;anime_id2&quot;</td><td>2</td></tr><tr><td>&quot;user_id3&quot;</td><td>&quot;anime_id3&quot;</td><td>3</td></tr></tbody></table></div>"
      ],
      "text/plain": [
       "shape: (3, 3)\n",
       "┌──────────┬───────────┬───────┐\n",
       "│ user_id  ┆ anime_id  ┆ score │\n",
       "│ ---      ┆ ---       ┆ ---   │\n",
       "│ str      ┆ str       ┆ i64   │\n",
       "╞══════════╪═══════════╪═══════╡\n",
       "│ user_id1 ┆ anime_id1 ┆ 1     │\n",
       "│ user_id2 ┆ anime_id2 ┆ 2     │\n",
       "│ user_id3 ┆ anime_id3 ┆ 3     │\n",
       "└──────────┴───────────┴───────┘"
      ]
     },
     "execution_count": 17,
     "metadata": {},
     "output_type": "execute_result"
    }
   ],
   "source": [
    "# 適当なpolarsデータフレームを作成\n",
    "df_tmp = pl.DataFrame(\n",
    "    {\n",
    "        \"user_id\": [\"user_id1\", \"user_id2\", \"user_id3\"],\n",
    "        \"anime_id\": [\"anime_id1\", \"anime_id2\", \"anime_id3\"],\n",
    "        \"score\": [1, 2, 3],\n",
    "    }\n",
    ")\n",
    "\n",
    "df_tmp.head()\n"
   ]
  },
  {
   "cell_type": "code",
   "execution_count": 27,
   "metadata": {},
   "outputs": [
    {
     "data": {
      "text/html": [
       "<div><style>\n",
       ".dataframe > thead > tr,\n",
       ".dataframe > tbody > tr {\n",
       "  text-align: right;\n",
       "  white-space: pre-wrap;\n",
       "}\n",
       "</style>\n",
       "<small>shape: (3, 3)</small><table border=\"1\" class=\"dataframe\"><thead><tr><th>user_id</th><th>anime_id</th><th>score</th></tr><tr><td>str</td><td>str</td><td>i64</td></tr></thead><tbody><tr><td>&quot;user_id1&quot;</td><td>&quot;anime_id1&quot;</td><td>2</td></tr><tr><td>&quot;user_id2&quot;</td><td>&quot;anime_id2&quot;</td><td>4</td></tr><tr><td>&quot;user_id3&quot;</td><td>&quot;anime_id3&quot;</td><td>6</td></tr></tbody></table></div>"
      ],
      "text/plain": [
       "shape: (3, 3)\n",
       "┌──────────┬───────────┬───────┐\n",
       "│ user_id  ┆ anime_id  ┆ score │\n",
       "│ ---      ┆ ---       ┆ ---   │\n",
       "│ str      ┆ str       ┆ i64   │\n",
       "╞══════════╪═══════════╪═══════╡\n",
       "│ user_id1 ┆ anime_id1 ┆ 2     │\n",
       "│ user_id2 ┆ anime_id2 ┆ 4     │\n",
       "│ user_id3 ┆ anime_id3 ┆ 6     │\n",
       "└──────────┴───────────┴───────┘"
      ]
     },
     "execution_count": 27,
     "metadata": {},
     "output_type": "execute_result"
    }
   ],
   "source": [
    "import numpy as np\n",
    "\n",
    "df_tmp = df_tmp.with_columns(pl.lit(np.array([2, 4, 6])).alias(\"score\"))\n",
    "df_tmp\n"
   ]
  },
  {
   "cell_type": "code",
   "execution_count": 29,
   "metadata": {},
   "outputs": [
    {
     "data": {
      "text/html": [
       "<div><style>\n",
       ".dataframe > thead > tr,\n",
       ".dataframe > tbody > tr {\n",
       "  text-align: right;\n",
       "  white-space: pre-wrap;\n",
       "}\n",
       "</style>\n",
       "<small>shape: (136_401, 21)</small><table border=\"1\" class=\"dataframe\"><thead><tr><th>user_id</th><th>anime_id</th><th>score</th><th>fold</th><th>genres</th><th>japanese_name</th><th>type</th><th>episodes</th><th>aired</th><th>producers</th><th>licensors</th><th>studios</th><th>source</th><th>duration</th><th>rating</th><th>members</th><th>watching</th><th>completed</th><th>on_hold</th><th>dropped</th><th>plan_to_watch</th></tr><tr><td>i64</td><td>i64</td><td>i64</td><td>i32</td><td>str</td><td>str</td><td>i64</td><td>str</td><td>str</td><td>str</td><td>str</td><td>str</td><td>i64</td><td>str</td><td>i64</td><td>i64</td><td>i64</td><td>i64</td><td>i64</td><td>i64</td><td>i64</td></tr></thead><tbody><tr><td>0</td><td>47</td><td>2</td><td>0</td><td>&quot;Action, Adventure, Shounen&quot;</td><td>&quot;ジョジョの奇妙な冒険 黄金の風&quot;</td><td>5</td><td>&quot;39&quot;</td><td>&quot;Oct 6, 2018 to Jul 28, 2019&quot;</td><td>&quot;Warner Bros. Japan, KlockWorx,…</td><td>&quot;VIZ Media&quot;</td><td>&quot;David Production&quot;</td><td>6</td><td>&quot;23 min. per ep.&quot;</td><td>3</td><td>542642</td><td>64809</td><td>383733</td><td>10625</td><td>5735</td><td>77740</td></tr><tr><td>0</td><td>119</td><td>10</td><td>0</td><td>&quot;Action, Dementia, Demons, Horr…</td><td>&quot;DEVILMAN crybaby&quot;</td><td>2</td><td>&quot;10&quot;</td><td>&quot;Jan 5, 2018&quot;</td><td>&quot;Aniplex, Dynamic Planning, Net…</td><td>&quot;Unknown&quot;</td><td>&quot;Science SARU&quot;</td><td>6</td><td>&quot;25 min. per ep.&quot;</td><td>4</td><td>650309</td><td>29665</td><td>477257</td><td>13336</td><td>18054</td><td>111997</td></tr><tr><td>0</td><td>229</td><td>1</td><td>0</td><td>&quot;Hentai, Yaoi&quot;</td><td>&quot;ぼくのぴこ&quot;</td><td>3</td><td>&quot;1&quot;</td><td>&quot;Sep 7, 2006&quot;</td><td>&quot;Natural High&quot;</td><td>&quot;Unknown&quot;</td><td>&quot;Sugar Boy, Blue Cat&quot;</td><td>9</td><td>&quot;34 min.&quot;</td><td>5</td><td>137560</td><td>5153</td><td>113190</td><td>758</td><td>9431</td><td>9028</td></tr><tr><td>0</td><td>257</td><td>8</td><td>0</td><td>&quot;Action, Slice of Life, Comedy,…</td><td>&quot;モブサイコ100&quot;</td><td>5</td><td>&quot;12&quot;</td><td>&quot;Jul 11, 2016 to Sep 27, 2016&quot;</td><td>&quot;Warner Bros. Japan, KlockWorx,…</td><td>&quot;Funimation, Crunchyroll&quot;</td><td>&quot;Bones&quot;</td><td>12</td><td>&quot;24 min. per ep.&quot;</td><td>2</td><td>1255830</td><td>68041</td><td>942402</td><td>26125</td><td>19213</td><td>200049</td></tr><tr><td>0</td><td>309</td><td>9</td><td>0</td><td>&quot;Comedy, Shounen, Sports&quot;</td><td>&quot;はじめの一歩 -Champion Road-&quot;</td><td>4</td><td>&quot;1&quot;</td><td>&quot;Apr 18, 2003&quot;</td><td>&quot;Unknown&quot;</td><td>&quot;Discotek Media, Geneon Enterta…</td><td>&quot;Madhouse&quot;</td><td>6</td><td>&quot;1 hr. 30 min.&quot;</td><td>2</td><td>97346</td><td>1565</td><td>82189</td><td>502</td><td>379</td><td>12711</td></tr><tr><td>&hellip;</td><td>&hellip;</td><td>&hellip;</td><td>&hellip;</td><td>&hellip;</td><td>&hellip;</td><td>&hellip;</td><td>&hellip;</td><td>&hellip;</td><td>&hellip;</td><td>&hellip;</td><td>&hellip;</td><td>&hellip;</td><td>&hellip;</td><td>&hellip;</td><td>&hellip;</td><td>&hellip;</td><td>&hellip;</td><td>&hellip;</td><td>&hellip;</td><td>&hellip;</td></tr><tr><td>1996</td><td>1771</td><td>6</td><td>4</td><td>&quot;Comedy, Parody, Romance, Schoo…</td><td>&quot;瀬戸の花嫁&quot;</td><td>5</td><td>&quot;26&quot;</td><td>&quot;Apr 2, 2007 to Oct 1, 2007&quot;</td><td>&quot;TV Tokyo, AIC, Square Enix, So…</td><td>&quot;Funimation&quot;</td><td>&quot;Gonzo&quot;</td><td>6</td><td>&quot;24 min. per ep.&quot;</td><td>2</td><td>271047</td><td>16670</td><td>146558</td><td>14531</td><td>14985</td><td>78303</td></tr><tr><td>1996</td><td>1776</td><td>7</td><td>4</td><td>&quot;Comedy, School, Shounen, Slice…</td><td>&quot;斉木楠雄のΨ難&quot;</td><td>5</td><td>&quot;120&quot;</td><td>&quot;Jul 4, 2016 to Dec 26, 2016&quot;</td><td>&quot;TV Tokyo, Shogakukan-Shueisha …</td><td>&quot;Funimation&quot;</td><td>&quot;J.C.Staff, Egg Firm&quot;</td><td>6</td><td>&quot;5 min. per ep.&quot;</td><td>2</td><td>591140</td><td>62788</td><td>365729</td><td>26700</td><td>17840</td><td>118083</td></tr><tr><td>1996</td><td>1807</td><td>7</td><td>4</td><td>&quot;Comedy, Shounen, Slice of Life&quot;</td><td>&quot;侵略!イカ娘&quot;</td><td>5</td><td>&quot;12&quot;</td><td>&quot;Oct 5, 2010 to Dec 21, 2010&quot;</td><td>&quot;TV Tokyo, Lantis, Pony Canyon,…</td><td>&quot;Media Blasters, Sentai Filmwor…</td><td>&quot;Diomedéa&quot;</td><td>6</td><td>&quot;24 min. per ep.&quot;</td><td>2</td><td>159116</td><td>7490</td><td>92814</td><td>6857</td><td>7288</td><td>44667</td></tr><tr><td>1996</td><td>1923</td><td>9</td><td>4</td><td>&quot;Sci-Fi, Mystery, Horror, Psych…</td><td>&quot;約束のネバーランド&quot;</td><td>5</td><td>&quot;12&quot;</td><td>&quot;Jan 10, 2019 to Mar 29, 2019&quot;</td><td>&quot;Aniplex, Dentsu, A-1 Pictures,…</td><td>&quot;Aniplex of America&quot;</td><td>&quot;CloverWorks&quot;</td><td>6</td><td>&quot;22 min. per ep.&quot;</td><td>3</td><td>1133952</td><td>78900</td><td>863136</td><td>17950</td><td>12852</td><td>161114</td></tr><tr><td>1996</td><td>1940</td><td>7</td><td>4</td><td>&quot;Comedy, Romance, Shoujo&quot;</td><td>&quot;ラブ★コン&quot;</td><td>5</td><td>&quot;24&quot;</td><td>&quot;Apr 7, 2007 to Sep 29, 2007&quot;</td><td>&quot;TBS, TAP, Sony Music Entertain…</td><td>&quot;Discotek Media&quot;</td><td>&quot;Toei Animation&quot;</td><td>6</td><td>&quot;24 min. per ep.&quot;</td><td>2</td><td>437765</td><td>18236</td><td>284143</td><td>14291</td><td>14995</td><td>106100</td></tr></tbody></table></div>"
      ],
      "text/plain": [
       "shape: (136_401, 21)\n",
       "┌─────────┬──────────┬───────┬──────┬───┬───────────┬─────────┬─────────┬───────────────┐\n",
       "│ user_id ┆ anime_id ┆ score ┆ fold ┆ … ┆ completed ┆ on_hold ┆ dropped ┆ plan_to_watch │\n",
       "│ ---     ┆ ---      ┆ ---   ┆ ---  ┆   ┆ ---       ┆ ---     ┆ ---     ┆ ---           │\n",
       "│ i64     ┆ i64      ┆ i64   ┆ i32  ┆   ┆ i64       ┆ i64     ┆ i64     ┆ i64           │\n",
       "╞═════════╪══════════╪═══════╪══════╪═══╪═══════════╪═════════╪═════════╪═══════════════╡\n",
       "│ 0       ┆ 47       ┆ 2     ┆ 0    ┆ … ┆ 383733    ┆ 10625   ┆ 5735    ┆ 77740         │\n",
       "│ 0       ┆ 119      ┆ 10    ┆ 0    ┆ … ┆ 477257    ┆ 13336   ┆ 18054   ┆ 111997        │\n",
       "│ 0       ┆ 229      ┆ 1     ┆ 0    ┆ … ┆ 113190    ┆ 758     ┆ 9431    ┆ 9028          │\n",
       "│ 0       ┆ 257      ┆ 8     ┆ 0    ┆ … ┆ 942402    ┆ 26125   ┆ 19213   ┆ 200049        │\n",
       "│ 0       ┆ 309      ┆ 9     ┆ 0    ┆ … ┆ 82189     ┆ 502     ┆ 379     ┆ 12711         │\n",
       "│ …       ┆ …        ┆ …     ┆ …    ┆ … ┆ …         ┆ …       ┆ …       ┆ …             │\n",
       "│ 1996    ┆ 1771     ┆ 6     ┆ 4    ┆ … ┆ 146558    ┆ 14531   ┆ 14985   ┆ 78303         │\n",
       "│ 1996    ┆ 1776     ┆ 7     ┆ 4    ┆ … ┆ 365729    ┆ 26700   ┆ 17840   ┆ 118083        │\n",
       "│ 1996    ┆ 1807     ┆ 7     ┆ 4    ┆ … ┆ 92814     ┆ 6857    ┆ 7288    ┆ 44667         │\n",
       "│ 1996    ┆ 1923     ┆ 9     ┆ 4    ┆ … ┆ 863136    ┆ 17950   ┆ 12852   ┆ 161114        │\n",
       "│ 1996    ┆ 1940     ┆ 7     ┆ 4    ┆ … ┆ 284143    ┆ 14291   ┆ 14995   ┆ 106100        │\n",
       "└─────────┴──────────┴───────┴──────┴───┴───────────┴─────────┴─────────┴───────────────┘"
      ]
     },
     "execution_count": 29,
     "metadata": {},
     "output_type": "execute_result"
    }
   ],
   "source": [
    "train_merged\n"
   ]
  },
  {
   "cell_type": "code",
   "execution_count": null,
   "metadata": {},
   "outputs": [],
   "source": []
  }
 ],
 "metadata": {
  "language_info": {
   "name": "python"
  }
 },
 "nbformat": 4,
 "nbformat_minor": 2
}
