{
 "cells": [
  {
   "cell_type": "code",
   "execution_count": 3,
   "metadata": {},
   "outputs": [
    {
     "data": {
      "text/plain": [
       "polars.config.Config"
      ]
     },
     "execution_count": 3,
     "metadata": {},
     "output_type": "execute_result"
    }
   ],
   "source": [
    "import japanize_matplotlib\n",
    "import matplotlib.pyplot as plt\n",
    "import polars as pl\n",
    "from matplotlib_venn import venn2\n",
    "\n",
    "pl.Config.set_fmt_str_lengths(100)\n"
   ]
  },
  {
   "cell_type": "code",
   "execution_count": 4,
   "metadata": {},
   "outputs": [
    {
     "data": {
      "text/html": [
       "<div><style>\n",
       ".dataframe > thead > tr,\n",
       ".dataframe > tbody > tr {\n",
       "  text-align: right;\n",
       "  white-space: pre-wrap;\n",
       "}\n",
       "</style>\n",
       "<small>shape: (5, 18)</small><table border=\"1\" class=\"dataframe\"><thead><tr><th>anime_id</th><th>genres</th><th>japanese_name</th><th>type</th><th>episodes</th><th>aired</th><th>producers</th><th>licensors</th><th>studios</th><th>source</th><th>duration</th><th>rating</th><th>members</th><th>watching</th><th>completed</th><th>on_hold</th><th>dropped</th><th>plan_to_watch</th></tr><tr><td>str</td><td>str</td><td>str</td><td>str</td><td>str</td><td>str</td><td>str</td><td>str</td><td>str</td><td>str</td><td>str</td><td>str</td><td>i64</td><td>i64</td><td>i64</td><td>i64</td><td>i64</td><td>i64</td></tr></thead><tbody><tr><td>&quot;000ba7f7e34e107e7544&quot;</td><td>&quot;Comedy, Sci-Fi, Seinen, Slice of Life, Space&quot;</td><td>&quot;宇宙兄弟&quot;</td><td>&quot;TV&quot;</td><td>&quot;99&quot;</td><td>&quot;Apr 1, 2012 to Mar 22, 2014&quot;</td><td>&quot;Aniplex, Dentsu, YTV, Trinity Sound&quot;</td><td>&quot;Sentai Filmworks&quot;</td><td>&quot;A-1 Pictures&quot;</td><td>&quot;Manga&quot;</td><td>&quot;24 min. per ep.&quot;</td><td>&quot;PG-13 - Teens 13 or older&quot;</td><td>150428</td><td>16552</td><td>37234</td><td>13009</td><td>6948</td><td>76685</td></tr><tr><td>&quot;00427279d72064e7fb69&quot;</td><td>&quot;Adventure, Slice of Life, Mystery, Historical, Supernatural, Fantasy, Seinen&quot;</td><td>&quot;蟲師&quot;</td><td>&quot;TV&quot;</td><td>&quot;26&quot;</td><td>&quot;Oct 23, 2005 to Jun 19, 2006&quot;</td><td>&quot;Avex Entertainment, Marvelous, SKY Perfect Well Think, Delfi Sound&quot;</td><td>&quot;Funimation&quot;</td><td>&quot;Artland&quot;</td><td>&quot;Manga&quot;</td><td>&quot;25 min. per ep.&quot;</td><td>&quot;PG-13 - Teens 13 or older&quot;</td><td>620736</td><td>55482</td><td>235371</td><td>42786</td><td>20017</td><td>267080</td></tr><tr><td>&quot;00444b67aaabdf740a68&quot;</td><td>&quot;Adventure, Slice of Life, Mystery, Historical, Supernatural, Fantasy, Seinen&quot;</td><td>&quot;蟲師 続章&quot;</td><td>&quot;TV&quot;</td><td>&quot;10&quot;</td><td>&quot;Apr 5, 2014 to Jun 21, 2014&quot;</td><td>&quot;Aniplex, Kodansha, Delfi Sound&quot;</td><td>&quot;Aniplex of America&quot;</td><td>&quot;Artland&quot;</td><td>&quot;Manga&quot;</td><td>&quot;24 min. per ep.&quot;</td><td>&quot;PG-13 - Teens 13 or older&quot;</td><td>226522</td><td>12585</td><td>113559</td><td>6095</td><td>2606</td><td>91677</td></tr><tr><td>&quot;00839a3507ab168abe75&quot;</td><td>&quot;Comedy, Ecchi, Fantasy, School&quot;</td><td>&quot;星刻の竜騎士&quot;</td><td>&quot;TV&quot;</td><td>&quot;12&quot;</td><td>&quot;Apr 5, 2014 to Jun 21, 2014&quot;</td><td>&quot;Media Factory, AT-X, Sony Music Communications, Tsukuru no Mori&quot;</td><td>&quot;Funimation&quot;</td><td>&quot;C-Station&quot;</td><td>&quot;Light novel&quot;</td><td>&quot;24 min. per ep.&quot;</td><td>&quot;R+ - Mild Nudity&quot;</td><td>170220</td><td>8723</td><td>118202</td><td>3753</td><td>8034</td><td>31508</td></tr><tr><td>&quot;0192331235e110fe4f76&quot;</td><td>&quot;Comedy, Harem, Romance, Sci-Fi, Shounen, Space&quot;</td><td>&quot;天地無用！&quot;</td><td>&quot;TV&quot;</td><td>&quot;26&quot;</td><td>&quot;Apr 2, 1995 to Sep 24, 1995&quot;</td><td>&quot;TV Tokyo, Pioneer LDC&quot;</td><td>&quot;Funimation, Geneon Entertainment USA&quot;</td><td>&quot;AIC&quot;</td><td>&quot;Original&quot;</td><td>&quot;23 min. per ep.&quot;</td><td>&quot;PG-13 - Teens 13 or older&quot;</td><td>62599</td><td>2565</td><td>39890</td><td>2093</td><td>1986</td><td>16065</td></tr></tbody></table></div>"
      ],
      "text/plain": [
       "shape: (5, 18)\n",
       "┌─────────────┬─────────────┬─────────────┬──────┬───┬───────────┬─────────┬─────────┬─────────────┐\n",
       "│ anime_id    ┆ genres      ┆ japanese_na ┆ type ┆ … ┆ completed ┆ on_hold ┆ dropped ┆ plan_to_wat │\n",
       "│ ---         ┆ ---         ┆ me          ┆ ---  ┆   ┆ ---       ┆ ---     ┆ ---     ┆ ch          │\n",
       "│ str         ┆ str         ┆ ---         ┆ str  ┆   ┆ i64       ┆ i64     ┆ i64     ┆ ---         │\n",
       "│             ┆             ┆ str         ┆      ┆   ┆           ┆         ┆         ┆ i64         │\n",
       "╞═════════════╪═════════════╪═════════════╪══════╪═══╪═══════════╪═════════╪═════════╪═════════════╡\n",
       "│ 000ba7f7e34 ┆ Comedy,     ┆ 宇宙兄弟    ┆ TV   ┆ … ┆ 37234     ┆ 13009   ┆ 6948    ┆ 76685       │\n",
       "│ e107e7544   ┆ Sci-Fi,     ┆             ┆      ┆   ┆           ┆         ┆         ┆             │\n",
       "│             ┆ Seinen,     ┆             ┆      ┆   ┆           ┆         ┆         ┆             │\n",
       "│             ┆ Slice of    ┆             ┆      ┆   ┆           ┆         ┆         ┆             │\n",
       "│             ┆ Life, Space ┆             ┆      ┆   ┆           ┆         ┆         ┆             │\n",
       "│ 00427279d72 ┆ Adventure,  ┆ 蟲師        ┆ TV   ┆ … ┆ 235371    ┆ 42786   ┆ 20017   ┆ 267080      │\n",
       "│ 064e7fb69   ┆ Slice of    ┆             ┆      ┆   ┆           ┆         ┆         ┆             │\n",
       "│             ┆ Life,       ┆             ┆      ┆   ┆           ┆         ┆         ┆             │\n",
       "│             ┆ Mystery,    ┆             ┆      ┆   ┆           ┆         ┆         ┆             │\n",
       "│             ┆ Historical, ┆             ┆      ┆   ┆           ┆         ┆         ┆             │\n",
       "│             ┆ Supernatura ┆             ┆      ┆   ┆           ┆         ┆         ┆             │\n",
       "│             ┆ l, Fantasy, ┆             ┆      ┆   ┆           ┆         ┆         ┆             │\n",
       "│             ┆ Seinen      ┆             ┆      ┆   ┆           ┆         ┆         ┆             │\n",
       "│ 00444b67aaa ┆ Adventure,  ┆ 蟲師 続章   ┆ TV   ┆ … ┆ 113559    ┆ 6095    ┆ 2606    ┆ 91677       │\n",
       "│ bdf740a68   ┆ Slice of    ┆             ┆      ┆   ┆           ┆         ┆         ┆             │\n",
       "│             ┆ Life,       ┆             ┆      ┆   ┆           ┆         ┆         ┆             │\n",
       "│             ┆ Mystery,    ┆             ┆      ┆   ┆           ┆         ┆         ┆             │\n",
       "│             ┆ Historical, ┆             ┆      ┆   ┆           ┆         ┆         ┆             │\n",
       "│             ┆ Supernatura ┆             ┆      ┆   ┆           ┆         ┆         ┆             │\n",
       "│             ┆ l, Fantasy, ┆             ┆      ┆   ┆           ┆         ┆         ┆             │\n",
       "│             ┆ Seinen      ┆             ┆      ┆   ┆           ┆         ┆         ┆             │\n",
       "│ 00839a3507a ┆ Comedy,     ┆ 星刻の竜騎  ┆ TV   ┆ … ┆ 118202    ┆ 3753    ┆ 8034    ┆ 31508       │\n",
       "│ b168abe75   ┆ Ecchi,      ┆ 士          ┆      ┆   ┆           ┆         ┆         ┆             │\n",
       "│             ┆ Fantasy,    ┆             ┆      ┆   ┆           ┆         ┆         ┆             │\n",
       "│             ┆ School      ┆             ┆      ┆   ┆           ┆         ┆         ┆             │\n",
       "│ 0192331235e ┆ Comedy,     ┆ 天地無用！  ┆ TV   ┆ … ┆ 39890     ┆ 2093    ┆ 1986    ┆ 16065       │\n",
       "│ 110fe4f76   ┆ Harem,      ┆             ┆      ┆   ┆           ┆         ┆         ┆             │\n",
       "│             ┆ Romance,    ┆             ┆      ┆   ┆           ┆         ┆         ┆             │\n",
       "│             ┆ Sci-Fi,     ┆             ┆      ┆   ┆           ┆         ┆         ┆             │\n",
       "│             ┆ Shounen,    ┆             ┆      ┆   ┆           ┆         ┆         ┆             │\n",
       "│             ┆ Space       ┆             ┆      ┆   ┆           ┆         ┆         ┆             │\n",
       "└─────────────┴─────────────┴─────────────┴──────┴───┴───────────┴─────────┴─────────┴─────────────┘"
      ]
     },
     "metadata": {},
     "output_type": "display_data"
    },
    {
     "data": {
      "text/html": [
       "<div><style>\n",
       ".dataframe > thead > tr,\n",
       ".dataframe > tbody > tr {\n",
       "  text-align: right;\n",
       "  white-space: pre-wrap;\n",
       "}\n",
       "</style>\n",
       "<small>shape: (5, 3)</small><table border=\"1\" class=\"dataframe\"><thead><tr><th>user_id</th><th>anime_id</th><th>score</th></tr><tr><td>str</td><td>str</td><td>i64</td></tr></thead><tbody><tr><td>&quot;0008e10fb39e55447333&quot;</td><td>&quot;0669cc0219d468761195&quot;</td><td>2</td></tr><tr><td>&quot;0008e10fb39e55447333&quot;</td><td>&quot;111adb8835b8a1a2cf54&quot;</td><td>10</td></tr><tr><td>&quot;0008e10fb39e55447333&quot;</td><td>&quot;1fc8683c393432a2f9c7&quot;</td><td>1</td></tr><tr><td>&quot;0008e10fb39e55447333&quot;</td><td>&quot;2290175205d55e81b197&quot;</td><td>8</td></tr><tr><td>&quot;0008e10fb39e55447333&quot;</td><td>&quot;28f173b60331d5cabb0d&quot;</td><td>9</td></tr></tbody></table></div>"
      ],
      "text/plain": [
       "shape: (5, 3)\n",
       "┌──────────────────────┬──────────────────────┬───────┐\n",
       "│ user_id              ┆ anime_id             ┆ score │\n",
       "│ ---                  ┆ ---                  ┆ ---   │\n",
       "│ str                  ┆ str                  ┆ i64   │\n",
       "╞══════════════════════╪══════════════════════╪═══════╡\n",
       "│ 0008e10fb39e55447333 ┆ 0669cc0219d468761195 ┆ 2     │\n",
       "│ 0008e10fb39e55447333 ┆ 111adb8835b8a1a2cf54 ┆ 10    │\n",
       "│ 0008e10fb39e55447333 ┆ 1fc8683c393432a2f9c7 ┆ 1     │\n",
       "│ 0008e10fb39e55447333 ┆ 2290175205d55e81b197 ┆ 8     │\n",
       "│ 0008e10fb39e55447333 ┆ 28f173b60331d5cabb0d ┆ 9     │\n",
       "└──────────────────────┴──────────────────────┴───────┘"
      ]
     },
     "metadata": {},
     "output_type": "display_data"
    },
    {
     "data": {
      "text/html": [
       "<div><style>\n",
       ".dataframe > thead > tr,\n",
       ".dataframe > tbody > tr {\n",
       "  text-align: right;\n",
       "  white-space: pre-wrap;\n",
       "}\n",
       "</style>\n",
       "<small>shape: (5, 2)</small><table border=\"1\" class=\"dataframe\"><thead><tr><th>user_id</th><th>anime_id</th></tr><tr><td>str</td><td>str</td></tr></thead><tbody><tr><td>&quot;0008e10fb39e55447333&quot;</td><td>&quot;04068820a73e52dc3b32&quot;</td></tr><tr><td>&quot;0008e10fb39e55447333&quot;</td><td>&quot;04a3d0b122b24965e909&quot;</td></tr><tr><td>&quot;0008e10fb39e55447333&quot;</td><td>&quot;1447fe1f10b59912d6a8&quot;</td></tr><tr><td>&quot;0008e10fb39e55447333&quot;</td><td>&quot;2622632598c68682afd5&quot;</td></tr><tr><td>&quot;0008e10fb39e55447333&quot;</td><td>&quot;2701850c7216516fec46&quot;</td></tr></tbody></table></div>"
      ],
      "text/plain": [
       "shape: (5, 2)\n",
       "┌──────────────────────┬──────────────────────┐\n",
       "│ user_id              ┆ anime_id             │\n",
       "│ ---                  ┆ ---                  │\n",
       "│ str                  ┆ str                  │\n",
       "╞══════════════════════╪══════════════════════╡\n",
       "│ 0008e10fb39e55447333 ┆ 04068820a73e52dc3b32 │\n",
       "│ 0008e10fb39e55447333 ┆ 04a3d0b122b24965e909 │\n",
       "│ 0008e10fb39e55447333 ┆ 1447fe1f10b59912d6a8 │\n",
       "│ 0008e10fb39e55447333 ┆ 2622632598c68682afd5 │\n",
       "│ 0008e10fb39e55447333 ┆ 2701850c7216516fec46 │\n",
       "└──────────────────────┴──────────────────────┘"
      ]
     },
     "metadata": {},
     "output_type": "display_data"
    }
   ],
   "source": [
    "# データの読み込み\n",
    "anime = pl.read_csv(\"../data/input/anime.csv\", try_parse_dates=True)\n",
    "train = pl.read_csv(\"../data/input/train.csv\", try_parse_dates=True)\n",
    "test = pl.read_csv(\"../data/input/test.csv\", try_parse_dates=True)\n",
    "display(anime.head())\n",
    "display(train.head())\n",
    "display(test.head())\n"
   ]
  },
  {
   "cell_type": "code",
   "execution_count": 5,
   "metadata": {},
   "outputs": [
    {
     "name": "stdout",
     "output_type": "stream",
     "text": [
      "df_anime Memory usage of dataframe became 0.5448 MB.\n",
      "df_train Memory usage of dataframe became 6.2439 MB.\n",
      "df_test Memory usage of dataframe became 4.489 MB.\n"
     ]
    }
   ],
   "source": [
    "print(f\"df_anime Memory usage of dataframe became {round(anime.estimated_size('mb'), 4)} MB.\")\n",
    "print(f\"df_train Memory usage of dataframe became {round(train.estimated_size('mb'), 4)} MB.\")\n",
    "print(f\"df_test Memory usage of dataframe became {round(test.estimated_size('mb'), 4)} MB.\")\n"
   ]
  },
  {
   "cell_type": "code",
   "execution_count": 6,
   "metadata": {},
   "outputs": [
    {
     "name": "stdout",
     "output_type": "stream",
     "text": [
      "anime Memory usage of dataframe became 0.499 MB.\n",
      "train Memory usage of dataframe became 5.3334 MB.\n",
      "test Memory usage of dataframe became 4.489 MB.\n"
     ]
    }
   ],
   "source": [
    "anime = anime.select(pl.all().shrink_dtype())\n",
    "train = train.select(pl.all().shrink_dtype())\n",
    "test = test.select(pl.all().shrink_dtype())\n",
    "print(f\"anime Memory usage of dataframe became {round(anime.estimated_size('mb'), 4)} MB.\")\n",
    "print(f\"train Memory usage of dataframe became {round(train.estimated_size('mb'), 4)} MB.\")\n",
    "print(f\"test Memory usage of dataframe became {round(test.estimated_size('mb'), 4)} MB.\")\n"
   ]
  },
  {
   "cell_type": "markdown",
   "metadata": {},
   "source": [
    "# train, testでuser_idがどの程度重複するか"
   ]
  },
  {
   "cell_type": "code",
   "execution_count": 7,
   "metadata": {},
   "outputs": [
    {
     "name": "stdout",
     "output_type": "stream",
     "text": [
      "train_user_id_set: 1794\n",
      "test_user_id_set: 1984\n"
     ]
    }
   ],
   "source": [
    "train_user_id_set = set(list(train[\"user_id\"].unique()))\n",
    "test_user_id_set = set(list(test[\"user_id\"].unique()))\n",
    "\n",
    "print(f\"train_user_id_set: {len(train_user_id_set)}\")\n",
    "print(f\"test_user_id_set: {len(test_user_id_set)}\")\n"
   ]
  },
  {
   "cell_type": "code",
   "execution_count": 8,
   "metadata": {},
   "outputs": [
    {
     "data": {
      "image/png": "[encoded data removed]",
      "text/plain": [
       "<Figure size 640x480 with 1 Axes>"
      ]
     },
     "metadata": {},
     "output_type": "display_data"
    }
   ],
   "source": [
    "plt.title(\"user_idの被り具合\")\n",
    "venn2([train_user_id_set, test_user_id_set], (\"train\", \"test\"));\n"
   ]
  },
  {
   "cell_type": "code",
   "execution_count": 21,
   "metadata": {},
   "outputs": [],
   "source": [
    "only_test_contain_user_id = test_user_id_set.difference(train_user_id_set)\n"
   ]
  },
  {
   "cell_type": "code",
   "execution_count": 22,
   "metadata": {},
   "outputs": [
    {
     "data": {
      "text/html": [
       "<div><style>\n",
       ".dataframe > thead > tr,\n",
       ".dataframe > tbody > tr {\n",
       "  text-align: right;\n",
       "  white-space: pre-wrap;\n",
       "}\n",
       "</style>\n",
       "<small>shape: (26_754, 2)</small><table border=\"1\" class=\"dataframe\"><thead><tr><th>user_id</th><th>anime_id</th></tr><tr><td>str</td><td>str</td></tr></thead><tbody><tr><td>&quot;00eb399c958546986c29&quot;</td><td>&quot;01e4c56439ca58e9c71a&quot;</td></tr><tr><td>&quot;00eb399c958546986c29&quot;</td><td>&quot;0309947ce1d2cab4fb69&quot;</td></tr><tr><td>&quot;00eb399c958546986c29&quot;</td><td>&quot;030a3e39232b5fc784fc&quot;</td></tr><tr><td>&quot;00eb399c958546986c29&quot;</td><td>&quot;036f9083805619fc5b71&quot;</td></tr><tr><td>&quot;00eb399c958546986c29&quot;</td><td>&quot;041995f3f394ba00c88c&quot;</td></tr><tr><td>&hellip;</td><td>&hellip;</td></tr><tr><td>&quot;ffe85a36cd20500faa58&quot;</td><td>&quot;f508b02efeac8ecb8cc0&quot;</td></tr><tr><td>&quot;ffe85a36cd20500faa58&quot;</td><td>&quot;f5b8ecea3beea4b82d79&quot;</td></tr><tr><td>&quot;ffe85a36cd20500faa58&quot;</td><td>&quot;f6c208226b6b69948053&quot;</td></tr><tr><td>&quot;ffe85a36cd20500faa58&quot;</td><td>&quot;fe67592c312fc1e17745&quot;</td></tr><tr><td>&quot;ffe85a36cd20500faa58&quot;</td><td>&quot;ff73475b68001c5e533d&quot;</td></tr></tbody></table></div>"
      ],
      "text/plain": [
       "shape: (26_754, 2)\n",
       "┌──────────────────────┬──────────────────────┐\n",
       "│ user_id              ┆ anime_id             │\n",
       "│ ---                  ┆ ---                  │\n",
       "│ str                  ┆ str                  │\n",
       "╞══════════════════════╪══════════════════════╡\n",
       "│ 00eb399c958546986c29 ┆ 01e4c56439ca58e9c71a │\n",
       "│ 00eb399c958546986c29 ┆ 0309947ce1d2cab4fb69 │\n",
       "│ 00eb399c958546986c29 ┆ 030a3e39232b5fc784fc │\n",
       "│ 00eb399c958546986c29 ┆ 036f9083805619fc5b71 │\n",
       "│ 00eb399c958546986c29 ┆ 041995f3f394ba00c88c │\n",
       "│ …                    ┆ …                    │\n",
       "│ ffe85a36cd20500faa58 ┆ f508b02efeac8ecb8cc0 │\n",
       "│ ffe85a36cd20500faa58 ┆ f5b8ecea3beea4b82d79 │\n",
       "│ ffe85a36cd20500faa58 ┆ f6c208226b6b69948053 │\n",
       "│ ffe85a36cd20500faa58 ┆ fe67592c312fc1e17745 │\n",
       "│ ffe85a36cd20500faa58 ┆ ff73475b68001c5e533d │\n",
       "└──────────────────────┴──────────────────────┘"
      ]
     },
     "execution_count": 22,
     "metadata": {},
     "output_type": "execute_result"
    }
   ],
   "source": [
    "test_only_test_contain_user_id = test.filter(pl.col(\"user_id\").is_in(only_test_contain_user_id))\n",
    "\n",
    "test_only_test_contain_user_id\n"
   ]
  },
  {
   "cell_type": "code",
   "execution_count": 27,
   "metadata": {},
   "outputs": [
    {
     "name": "stdout",
     "output_type": "stream",
     "text": [
      "testにあるがtrainにないuser_idの割合: 22.74%\n"
     ]
    }
   ],
   "source": [
    "res = test_only_test_contain_user_id.height / test.height\n",
    "print(f\"testにあるがtrainにないuser_idの割合: {res * 100:.2f}%\")\n"
   ]
  },
  {
   "cell_type": "markdown",
   "metadata": {},
   "source": [
    "# train, testでanime_idがどの程度重複しているか"
   ]
  },
  {
   "cell_type": "code",
   "execution_count": 28,
   "metadata": {},
   "outputs": [],
   "source": [
    "train_anime_id_set = set(list(train[\"anime_id\"].unique()))\n",
    "test_anime_id_set = set(list(test[\"anime_id\"].unique()))\n"
   ]
  },
  {
   "cell_type": "code",
   "execution_count": 29,
   "metadata": {},
   "outputs": [
    {
     "data": {
      "image/png": "[encoded data removed]",
      "text/plain": [
       "<Figure size 640x480 with 1 Axes>"
      ]
     },
     "metadata": {},
     "output_type": "display_data"
    }
   ],
   "source": [
    "plt.title(\"anime_idの被り具合\")\n",
    "venn2([train_anime_id_set, test_anime_id_set], (\"train\", \"test\"));\n"
   ]
  },
  {
   "cell_type": "code",
   "execution_count": 30,
   "metadata": {},
   "outputs": [],
   "source": [
    "only_train_contain_anime_id = train_anime_id_set.difference(test_anime_id_set)\n",
    "only_test_contain_anime_id = test_anime_id_set.difference(train_anime_id_set)\n"
   ]
  },
  {
   "cell_type": "code",
   "execution_count": 31,
   "metadata": {},
   "outputs": [
    {
     "data": {
      "text/html": [
       "<div><style>\n",
       ".dataframe > thead > tr,\n",
       ".dataframe > tbody > tr {\n",
       "  text-align: right;\n",
       "  white-space: pre-wrap;\n",
       "}\n",
       "</style>\n",
       "<small>shape: (2, 18)</small><table border=\"1\" class=\"dataframe\"><thead><tr><th>anime_id</th><th>genres</th><th>japanese_name</th><th>type</th><th>episodes</th><th>aired</th><th>producers</th><th>licensors</th><th>studios</th><th>source</th><th>duration</th><th>rating</th><th>members</th><th>watching</th><th>completed</th><th>on_hold</th><th>dropped</th><th>plan_to_watch</th></tr><tr><td>str</td><td>str</td><td>str</td><td>str</td><td>str</td><td>str</td><td>str</td><td>str</td><td>str</td><td>str</td><td>str</td><td>str</td><td>i32</td><td>i32</td><td>i32</td><td>i32</td><td>i32</td><td>i32</td></tr></thead><tbody><tr><td>&quot;1e9b3a43745594039e42&quot;</td><td>&quot;Slice of Life, Comedy, Romance&quot;</td><td>&quot;ヲタクに恋は難しい OAD&quot;</td><td>&quot;OVA&quot;</td><td>&quot;2&quot;</td><td>&quot;Mar 29, 2019 to Feb 26, 2021&quot;</td><td>&quot;Aniplex, Half H.P Studio, Fujipacific Music&quot;</td><td>&quot;Unknown&quot;</td><td>&quot;A-1 Pictures, Lapin Track&quot;</td><td>&quot;Web manga&quot;</td><td>&quot;22 min. per ep.&quot;</td><td>&quot;PG-13 - Teens 13 or older&quot;</td><td>90626</td><td>46279</td><td>327</td><td>10053</td><td>857</td><td>33110</td></tr><tr><td>&quot;867934bc2a611a8423da&quot;</td><td>&quot;Sci-Fi, Mystery, Psychological, Thriller, Shounen&quot;</td><td>&quot;約束のネバーランド&quot;</td><td>&quot;TV&quot;</td><td>&quot;11&quot;</td><td>&quot;Jan 8, 2021 to ?&quot;</td><td>&quot;Aniplex, Shueisha&quot;</td><td>&quot;Aniplex of America&quot;</td><td>&quot;CloverWorks&quot;</td><td>&quot;Manga&quot;</td><td>&quot;22 min. per ep.&quot;</td><td>&quot;R - 17+ (violence &amp; profanity)&quot;</td><td>482725</td><td>260775</td><td>60</td><td>6458</td><td>6966</td><td>208466</td></tr></tbody></table></div>"
      ],
      "text/plain": [
       "shape: (2, 18)\n",
       "┌─────────────┬─────────────┬─────────────┬──────┬───┬───────────┬─────────┬─────────┬─────────────┐\n",
       "│ anime_id    ┆ genres      ┆ japanese_na ┆ type ┆ … ┆ completed ┆ on_hold ┆ dropped ┆ plan_to_wat │\n",
       "│ ---         ┆ ---         ┆ me          ┆ ---  ┆   ┆ ---       ┆ ---     ┆ ---     ┆ ch          │\n",
       "│ str         ┆ str         ┆ ---         ┆ str  ┆   ┆ i32       ┆ i32     ┆ i32     ┆ ---         │\n",
       "│             ┆             ┆ str         ┆      ┆   ┆           ┆         ┆         ┆ i32         │\n",
       "╞═════════════╪═════════════╪═════════════╪══════╪═══╪═══════════╪═════════╪═════════╪═════════════╡\n",
       "│ 1e9b3a43745 ┆ Slice of    ┆ ヲタクに恋  ┆ OVA  ┆ … ┆ 327       ┆ 10053   ┆ 857     ┆ 33110       │\n",
       "│ 594039e42   ┆ Life,       ┆ は難しい    ┆      ┆   ┆           ┆         ┆         ┆             │\n",
       "│             ┆ Comedy,     ┆ OAD         ┆      ┆   ┆           ┆         ┆         ┆             │\n",
       "│             ┆ Romance     ┆             ┆      ┆   ┆           ┆         ┆         ┆             │\n",
       "│ 867934bc2a6 ┆ Sci-Fi,     ┆ 約束のネバ  ┆ TV   ┆ … ┆ 60        ┆ 6458    ┆ 6966    ┆ 208466      │\n",
       "│ 11a8423da   ┆ Mystery,    ┆ ーランド    ┆      ┆   ┆           ┆         ┆         ┆             │\n",
       "│             ┆ Psychologic ┆             ┆      ┆   ┆           ┆         ┆         ┆             │\n",
       "│             ┆ al,         ┆             ┆      ┆   ┆           ┆         ┆         ┆             │\n",
       "│             ┆ Thriller,   ┆             ┆      ┆   ┆           ┆         ┆         ┆             │\n",
       "│             ┆ Shounen     ┆             ┆      ┆   ┆           ┆         ┆         ┆             │\n",
       "└─────────────┴─────────────┴─────────────┴──────┴───┴───────────┴─────────┴─────────┴─────────────┘"
      ]
     },
     "execution_count": 31,
     "metadata": {},
     "output_type": "execute_result"
    }
   ],
   "source": [
    "anime.filter(pl.col(\"anime_id\").is_in(only_train_contain_anime_id))\n"
   ]
  },
  {
   "cell_type": "code",
   "execution_count": 32,
   "metadata": {},
   "outputs": [
    {
     "data": {
      "text/html": [
       "<div><style>\n",
       ".dataframe > thead > tr,\n",
       ".dataframe > tbody > tr {\n",
       "  text-align: right;\n",
       "  white-space: pre-wrap;\n",
       "}\n",
       "</style>\n",
       "<small>shape: (2, 18)</small><table border=\"1\" class=\"dataframe\"><thead><tr><th>anime_id</th><th>genres</th><th>japanese_name</th><th>type</th><th>episodes</th><th>aired</th><th>producers</th><th>licensors</th><th>studios</th><th>source</th><th>duration</th><th>rating</th><th>members</th><th>watching</th><th>completed</th><th>on_hold</th><th>dropped</th><th>plan_to_watch</th></tr><tr><td>str</td><td>str</td><td>str</td><td>str</td><td>str</td><td>str</td><td>str</td><td>str</td><td>str</td><td>str</td><td>str</td><td>str</td><td>i32</td><td>i32</td><td>i32</td><td>i32</td><td>i32</td><td>i32</td></tr></thead><tbody><tr><td>&quot;21f8d20251a4f9d150c5&quot;</td><td>&quot;Action, Seinen&quot;</td><td>&quot;はたらく細胞BLACK&quot;</td><td>&quot;TV&quot;</td><td>&quot;13&quot;</td><td>&quot;Jan 10, 2021 to ?&quot;</td><td>&quot;Aniplex, Kodansha, Studio Mausu, Tokyo MX, NetEase&quot;</td><td>&quot;Aniplex of America&quot;</td><td>&quot;LIDENFILMS&quot;</td><td>&quot;Manga&quot;</td><td>&quot;23 min. per ep.&quot;</td><td>&quot;PG-13 - Teens 13 or older&quot;</td><td>123446</td><td>56958</td><td>16</td><td>2262</td><td>1843</td><td>62367</td></tr><tr><td>&quot;d7cee297224130410c3b&quot;</td><td>&quot;Action, Adventure, Comedy, Super Power, Drama, Fantasy, Shounen&quot;</td><td>&quot;ONE PIECE&quot;</td><td>&quot;TV&quot;</td><td>&quot;Unknown&quot;</td><td>&quot;Oct 20, 1999 to ?&quot;</td><td>&quot;Fuji TV, TAP, Shueisha&quot;</td><td>&quot;Funimation, 4Kids Entertainment&quot;</td><td>&quot;Toei Animation&quot;</td><td>&quot;Manga&quot;</td><td>&quot;24 min.&quot;</td><td>&quot;PG-13 - Teens 13 or older&quot;</td><td>1352724</td><td>887333</td><td>33</td><td>187919</td><td>136245</td><td>141194</td></tr></tbody></table></div>"
      ],
      "text/plain": [
       "shape: (2, 18)\n",
       "┌─────────────┬─────────────┬─────────────┬──────┬───┬───────────┬─────────┬─────────┬─────────────┐\n",
       "│ anime_id    ┆ genres      ┆ japanese_na ┆ type ┆ … ┆ completed ┆ on_hold ┆ dropped ┆ plan_to_wat │\n",
       "│ ---         ┆ ---         ┆ me          ┆ ---  ┆   ┆ ---       ┆ ---     ┆ ---     ┆ ch          │\n",
       "│ str         ┆ str         ┆ ---         ┆ str  ┆   ┆ i32       ┆ i32     ┆ i32     ┆ ---         │\n",
       "│             ┆             ┆ str         ┆      ┆   ┆           ┆         ┆         ┆ i32         │\n",
       "╞═════════════╪═════════════╪═════════════╪══════╪═══╪═══════════╪═════════╪═════════╪═════════════╡\n",
       "│ 21f8d20251a ┆ Action,     ┆ はたらく細  ┆ TV   ┆ … ┆ 16        ┆ 2262    ┆ 1843    ┆ 62367       │\n",
       "│ 4f9d150c5   ┆ Seinen      ┆ 胞BLACK     ┆      ┆   ┆           ┆         ┆         ┆             │\n",
       "│ d7cee297224 ┆ Action,     ┆ ONE PIECE   ┆ TV   ┆ … ┆ 33        ┆ 187919  ┆ 136245  ┆ 141194      │\n",
       "│ 130410c3b   ┆ Adventure,  ┆             ┆      ┆   ┆           ┆         ┆         ┆             │\n",
       "│             ┆ Comedy,     ┆             ┆      ┆   ┆           ┆         ┆         ┆             │\n",
       "│             ┆ Super       ┆             ┆      ┆   ┆           ┆         ┆         ┆             │\n",
       "│             ┆ Power,      ┆             ┆      ┆   ┆           ┆         ┆         ┆             │\n",
       "│             ┆ Drama,      ┆             ┆      ┆   ┆           ┆         ┆         ┆             │\n",
       "│             ┆ Fantasy,    ┆             ┆      ┆   ┆           ┆         ┆         ┆             │\n",
       "│             ┆ Shounen     ┆             ┆      ┆   ┆           ┆         ┆         ┆             │\n",
       "└─────────────┴─────────────┴─────────────┴──────┴───┴───────────┴─────────┴─────────┴─────────────┘"
      ]
     },
     "execution_count": 32,
     "metadata": {},
     "output_type": "execute_result"
    }
   ],
   "source": [
    "anime.filter(pl.col(\"anime_id\").is_in(only_test_contain_anime_id))\n"
   ]
  },
  {
   "cell_type": "code",
   "execution_count": 33,
   "metadata": {},
   "outputs": [
    {
     "data": {
      "text/html": [
       "<div><style>\n",
       ".dataframe > thead > tr,\n",
       ".dataframe > tbody > tr {\n",
       "  text-align: right;\n",
       "  white-space: pre-wrap;\n",
       "}\n",
       "</style>\n",
       "<small>shape: (4, 18)</small><table border=\"1\" class=\"dataframe\"><thead><tr><th>anime_id</th><th>genres</th><th>japanese_name</th><th>type</th><th>episodes</th><th>aired</th><th>producers</th><th>licensors</th><th>studios</th><th>source</th><th>duration</th><th>rating</th><th>members</th><th>watching</th><th>completed</th><th>on_hold</th><th>dropped</th><th>plan_to_watch</th></tr><tr><td>str</td><td>str</td><td>str</td><td>str</td><td>str</td><td>str</td><td>str</td><td>str</td><td>str</td><td>str</td><td>str</td><td>str</td><td>i32</td><td>i32</td><td>i32</td><td>i32</td><td>i32</td><td>i32</td></tr></thead><tbody><tr><td>&quot;a929e31a2bba9980dd82&quot;</td><td>&quot;Action, Adventure, Comedy, Drama, Fantasy, Shounen&quot;</td><td>&quot;ONE PIECE FILM GOLD&quot;</td><td>&quot;Movie&quot;</td><td>&quot;1&quot;</td><td>&quot;Jul 23, 2016&quot;</td><td>&quot;Unknown&quot;</td><td>&quot;Funimation&quot;</td><td>&quot;Toei Animation&quot;</td><td>&quot;Manga&quot;</td><td>&quot;2 hr.&quot;</td><td>&quot;PG-13 - Teens 13 or older&quot;</td><td>121306</td><td>2388</td><td>100649</td><td>550</td><td>372</td><td>17347</td></tr><tr><td>&quot;ab0d17de9ade9bc13c64&quot;</td><td>&quot;Action, Adventure, Comedy, Drama, Fantasy, Shounen, Super Power&quot;</td><td>&quot;劇場版『ONE PIECE STAMPEDE』（スタンピード）&quot;</td><td>&quot;Movie&quot;</td><td>&quot;1&quot;</td><td>&quot;Aug 9, 2019&quot;</td><td>&quot;Unknown&quot;</td><td>&quot;Unknown&quot;</td><td>&quot;Toei Animation&quot;</td><td>&quot;Manga&quot;</td><td>&quot;1 hr. 41 min.&quot;</td><td>&quot;PG-13 - Teens 13 or older&quot;</td><td>77375</td><td>1467</td><td>57450</td><td>373</td><td>206</td><td>17879</td></tr><tr><td>&quot;d7cee297224130410c3b&quot;</td><td>&quot;Action, Adventure, Comedy, Super Power, Drama, Fantasy, Shounen&quot;</td><td>&quot;ONE PIECE&quot;</td><td>&quot;TV&quot;</td><td>&quot;Unknown&quot;</td><td>&quot;Oct 20, 1999 to ?&quot;</td><td>&quot;Fuji TV, TAP, Shueisha&quot;</td><td>&quot;Funimation, 4Kids Entertainment&quot;</td><td>&quot;Toei Animation&quot;</td><td>&quot;Manga&quot;</td><td>&quot;24 min.&quot;</td><td>&quot;PG-13 - Teens 13 or older&quot;</td><td>1352724</td><td>887333</td><td>33</td><td>187919</td><td>136245</td><td>141194</td></tr><tr><td>&quot;eb25d8bf9c986ad62c41&quot;</td><td>&quot;Action, Adventure, Comedy, Super Power, Fantasy, Shounen&quot;</td><td>&quot;ONE PIECE&quot;</td><td>&quot;Movie&quot;</td><td>&quot;1&quot;</td><td>&quot;Mar 4, 2000&quot;</td><td>&quot;Unknown&quot;</td><td>&quot;Unknown&quot;</td><td>&quot;Toei Animation&quot;</td><td>&quot;Manga&quot;</td><td>&quot;50 min.&quot;</td><td>&quot;PG-13 - Teens 13 or older&quot;</td><td>82437</td><td>1081</td><td>72673</td><td>408</td><td>357</td><td>7918</td></tr></tbody></table></div>"
      ],
      "text/plain": [
       "shape: (4, 18)\n",
       "┌─────────────┬─────────────┬─────────────┬───────┬───┬───────────┬─────────┬─────────┬────────────┐\n",
       "│ anime_id    ┆ genres      ┆ japanese_na ┆ type  ┆ … ┆ completed ┆ on_hold ┆ dropped ┆ plan_to_wa │\n",
       "│ ---         ┆ ---         ┆ me          ┆ ---   ┆   ┆ ---       ┆ ---     ┆ ---     ┆ tch        │\n",
       "│ str         ┆ str         ┆ ---         ┆ str   ┆   ┆ i32       ┆ i32     ┆ i32     ┆ ---        │\n",
       "│             ┆             ┆ str         ┆       ┆   ┆           ┆         ┆         ┆ i32        │\n",
       "╞═════════════╪═════════════╪═════════════╪═══════╪═══╪═══════════╪═════════╪═════════╪════════════╡\n",
       "│ a929e31a2bb ┆ Action,     ┆ ONE PIECE   ┆ Movie ┆ … ┆ 100649    ┆ 550     ┆ 372     ┆ 17347      │\n",
       "│ a9980dd82   ┆ Adventure,  ┆ FILM GOLD   ┆       ┆   ┆           ┆         ┆         ┆            │\n",
       "│             ┆ Comedy,     ┆             ┆       ┆   ┆           ┆         ┆         ┆            │\n",
       "│             ┆ Drama,      ┆             ┆       ┆   ┆           ┆         ┆         ┆            │\n",
       "│             ┆ Fantasy,    ┆             ┆       ┆   ┆           ┆         ┆         ┆            │\n",
       "│             ┆ Shounen     ┆             ┆       ┆   ┆           ┆         ┆         ┆            │\n",
       "│ ab0d17de9ad ┆ Action,     ┆ 劇場版『ONE ┆ Movie ┆ … ┆ 57450     ┆ 373     ┆ 206     ┆ 17879      │\n",
       "│ e9bc13c64   ┆ Adventure,  ┆ PIECE STAMP ┆       ┆   ┆           ┆         ┆         ┆            │\n",
       "│             ┆ Comedy,     ┆ EDE』（スタ ┆       ┆   ┆           ┆         ┆         ┆            │\n",
       "│             ┆ Drama,      ┆ ンピード）  ┆       ┆   ┆           ┆         ┆         ┆            │\n",
       "│             ┆ Fantasy,    ┆             ┆       ┆   ┆           ┆         ┆         ┆            │\n",
       "│             ┆ Shounen,    ┆             ┆       ┆   ┆           ┆         ┆         ┆            │\n",
       "│             ┆ Super Power ┆             ┆       ┆   ┆           ┆         ┆         ┆            │\n",
       "│ d7cee297224 ┆ Action,     ┆ ONE PIECE   ┆ TV    ┆ … ┆ 33        ┆ 187919  ┆ 136245  ┆ 141194     │\n",
       "│ 130410c3b   ┆ Adventure,  ┆             ┆       ┆   ┆           ┆         ┆         ┆            │\n",
       "│             ┆ Comedy,     ┆             ┆       ┆   ┆           ┆         ┆         ┆            │\n",
       "│             ┆ Super       ┆             ┆       ┆   ┆           ┆         ┆         ┆            │\n",
       "│             ┆ Power,      ┆             ┆       ┆   ┆           ┆         ┆         ┆            │\n",
       "│             ┆ Drama,      ┆             ┆       ┆   ┆           ┆         ┆         ┆            │\n",
       "│             ┆ Fantasy,    ┆             ┆       ┆   ┆           ┆         ┆         ┆            │\n",
       "│             ┆ Shounen     ┆             ┆       ┆   ┆           ┆         ┆         ┆            │\n",
       "│ eb25d8bf9c9 ┆ Action,     ┆ ONE PIECE   ┆ Movie ┆ … ┆ 72673     ┆ 408     ┆ 357     ┆ 7918       │\n",
       "│ 86ad62c41   ┆ Adventure,  ┆             ┆       ┆   ┆           ┆         ┆         ┆            │\n",
       "│             ┆ Comedy,     ┆             ┆       ┆   ┆           ┆         ┆         ┆            │\n",
       "│             ┆ Super       ┆             ┆       ┆   ┆           ┆         ┆         ┆            │\n",
       "│             ┆ Power,      ┆             ┆       ┆   ┆           ┆         ┆         ┆            │\n",
       "│             ┆ Fantasy,    ┆             ┆       ┆   ┆           ┆         ┆         ┆            │\n",
       "│             ┆ Shounen     ┆             ┆       ┆   ┆           ┆         ┆         ┆            │\n",
       "└─────────────┴─────────────┴─────────────┴───────┴───┴───────────┴─────────┴─────────┴────────────┘"
      ]
     },
     "execution_count": 33,
     "metadata": {},
     "output_type": "execute_result"
    }
   ],
   "source": [
    "anime.filter(pl.col(\"japanese_name\").str.contains(\"ONE PIECE\"))\n"
   ]
  },
  {
   "cell_type": "code",
   "execution_count": 37,
   "metadata": {},
   "outputs": [
    {
     "data": {
      "text/html": [
       "<div><style>\n",
       ".dataframe > thead > tr,\n",
       ".dataframe > tbody > tr {\n",
       "  text-align: right;\n",
       "  white-space: pre-wrap;\n",
       "}\n",
       "</style>\n",
       "<small>shape: (2, 2)</small><table border=\"1\" class=\"dataframe\"><thead><tr><th>user_id</th><th>anime_id</th></tr><tr><td>str</td><td>str</td></tr></thead><tbody><tr><td>&quot;332a8a7544b04e35b059&quot;</td><td>&quot;d7cee297224130410c3b&quot;</td></tr><tr><td>&quot;f6beb17befcf1afc0e0d&quot;</td><td>&quot;21f8d20251a4f9d150c5&quot;</td></tr></tbody></table></div>"
      ],
      "text/plain": [
       "shape: (2, 2)\n",
       "┌──────────────────────┬──────────────────────┐\n",
       "│ user_id              ┆ anime_id             │\n",
       "│ ---                  ┆ ---                  │\n",
       "│ str                  ┆ str                  │\n",
       "╞══════════════════════╪══════════════════════╡\n",
       "│ 332a8a7544b04e35b059 ┆ d7cee297224130410c3b │\n",
       "│ f6beb17befcf1afc0e0d ┆ 21f8d20251a4f9d150c5 │\n",
       "└──────────────────────┴──────────────────────┘"
      ]
     },
     "execution_count": 37,
     "metadata": {},
     "output_type": "execute_result"
    }
   ],
   "source": [
    "test_only_test_contain_anime_id = test.filter(pl.col(\"anime_id\").is_in(only_test_contain_anime_id))\n",
    "test_only_test_contain_anime_id\n"
   ]
  },
  {
   "cell_type": "code",
   "execution_count": 36,
   "metadata": {},
   "outputs": [
    {
     "name": "stdout",
     "output_type": "stream",
     "text": [
      "testにあるがtrainにないanime_idの割合: 0.002%\n"
     ]
    }
   ],
   "source": [
    "res = test_only_test_contain_anime_id.height / test.height\n",
    "print(f\"testにあるがtrainにないanime_idの割合: {res * 100:.3f}%\")\n"
   ]
  },
  {
   "cell_type": "markdown",
   "metadata": {},
   "source": [
    "# Testの中に、user_id, anime_idの両方がtrainに存在しないものはあるか"
   ]
  },
  {
   "cell_type": "code",
   "execution_count": 38,
   "metadata": {},
   "outputs": [
    {
     "data": {
      "text/html": [
       "<div><style>\n",
       ".dataframe > thead > tr,\n",
       ".dataframe > tbody > tr {\n",
       "  text-align: right;\n",
       "  white-space: pre-wrap;\n",
       "}\n",
       "</style>\n",
       "<small>shape: (1, 2)</small><table border=\"1\" class=\"dataframe\"><thead><tr><th>user_id</th><th>anime_id</th></tr><tr><td>str</td><td>str</td></tr></thead><tbody><tr><td>&quot;332a8a7544b04e35b059&quot;</td><td>&quot;d7cee297224130410c3b&quot;</td></tr></tbody></table></div>"
      ],
      "text/plain": [
       "shape: (1, 2)\n",
       "┌──────────────────────┬──────────────────────┐\n",
       "│ user_id              ┆ anime_id             │\n",
       "│ ---                  ┆ ---                  │\n",
       "│ str                  ┆ str                  │\n",
       "╞══════════════════════╪══════════════════════╡\n",
       "│ 332a8a7544b04e35b059 ┆ d7cee297224130410c3b │\n",
       "└──────────────────────┴──────────────────────┘"
      ]
     },
     "execution_count": 38,
     "metadata": {},
     "output_type": "execute_result"
    }
   ],
   "source": [
    "test.filter(pl.col(\"user_id\").is_in(only_test_contain_user_id), pl.col(\"anime_id\").is_in(only_test_contain_anime_id))\n"
   ]
  }
 ],
 "metadata": {
  "language_info": {
   "name": "python"
  }
 },
 "nbformat": 4,
 "nbformat_minor": 2
}
